{
 "cells": [
  {
   "cell_type": "raw",
   "id": "decimal-scenario",
   "metadata": {},
   "source": [
    "### Libreria necesaria\n",
    "import numpy as np\n",
    "import pandas as pd\n",
    "import seaborn as sns\n",
    "import matplotlib.pyplot as plt\n",
    "import datetime\n",
    "\n",
    "from sklearn.compose import ColumnTransformer\n",
    "from sklearn.preprocessing import MinMaxScaler, StandardScaler\n",
    "\n",
    "from sklearn.decomposition import PCA\n",
    "from sklearn.preprocessing import scale\n",
    "from sklearn.pipeline import make_pipeline"
   ]
  },
  {
   "cell_type": "code",
   "execution_count": 2,
   "id": "planned-renewal",
   "metadata": {},
   "outputs": [],
   "source": [
    "def get_odd_numbers(numbers):\n",
    "    odd_numbers = []\n",
    "\n",
    "    for number in numbers:\n",
    "        if number % 2 == 1:\n",
    "            odd_numbers.append(number)\n",
    "\n",
    "    return odd_numbers"
   ]
  },
  {
   "cell_type": "code",
   "execution_count": 3,
   "id": "conscious-valentine",
   "metadata": {},
   "outputs": [],
   "source": [
    "pd.set_option('display.max_rows', 500)\n",
    "pd.set_option('display.max_columns', 50)"
   ]
  },
  {
   "cell_type": "markdown",
   "id": "recorded-gates",
   "metadata": {},
   "source": [
    "# Sección A"
   ]
  },
  {
   "cell_type": "markdown",
   "id": "insured-locking",
   "metadata": {},
   "source": [
    "En esta sección se responden las preguntas del ejercicio que hace referencia a la **Agencia digital de Innovación Pública**"
   ]
  },
  {
   "cell_type": "markdown",
   "id": "governing-lottery",
   "metadata": {},
   "source": [
    "**1. ¿Qué pruebas identificarías para asegurar la calidad de los datos? No es necesario hacerlas, sólo describe la prueba y lo que te dice cada una**"
   ]
  },
  {
   "cell_type": "code",
   "execution_count": 4,
   "id": "about-tractor",
   "metadata": {},
   "outputs": [
    {
     "name": "stderr",
     "output_type": "stream",
     "text": [
      "/Library/Frameworks/Python.framework/Versions/3.7/lib/python3.7/site-packages/IPython/core/interactiveshell.py:3147: DtypeWarning: Columns (16) have mixed types.Specify dtype option on import or set low_memory=False.\n",
      "  interactivity=interactivity, compiler=compiler, result=result)\n"
     ]
    }
   ],
   "source": [
    "data =  pd.read_csv('data/48fcb848-220c-4af0-839b-4fd8ac812c0f')"
   ]
  },
  {
   "cell_type": "code",
   "execution_count": 5,
   "id": "proud-investor",
   "metadata": {},
   "outputs": [
    {
     "data": {
      "text/html": [
       "<div>\n",
       "<style scoped>\n",
       "    .dataframe tbody tr th:only-of-type {\n",
       "        vertical-align: middle;\n",
       "    }\n",
       "\n",
       "    .dataframe tbody tr th {\n",
       "        vertical-align: top;\n",
       "    }\n",
       "\n",
       "    .dataframe thead th {\n",
       "        text-align: right;\n",
       "    }\n",
       "</style>\n",
       "<table border=\"1\" class=\"dataframe\">\n",
       "  <thead>\n",
       "    <tr style=\"text-align: right;\">\n",
       "      <th></th>\n",
       "      <th>_id</th>\n",
       "      <th>ao_hechos</th>\n",
       "      <th>mes_hechos</th>\n",
       "      <th>fecha_hechos</th>\n",
       "      <th>ao_inicio</th>\n",
       "      <th>mes_inicio</th>\n",
       "      <th>fecha_inicio</th>\n",
       "      <th>delito</th>\n",
       "      <th>fiscalia</th>\n",
       "      <th>agencia</th>\n",
       "      <th>unidad_investigacion</th>\n",
       "      <th>categoria_delito</th>\n",
       "      <th>calle_hechos</th>\n",
       "      <th>calle_hechos2</th>\n",
       "      <th>colonia_hechos</th>\n",
       "      <th>alcaldia_hechos</th>\n",
       "      <th>competencia</th>\n",
       "      <th>longitud</th>\n",
       "      <th>latitud</th>\n",
       "      <th>tempo</th>\n",
       "    </tr>\n",
       "  </thead>\n",
       "  <tbody>\n",
       "    <tr>\n",
       "      <th>0</th>\n",
       "      <td>1</td>\n",
       "      <td>2016.0</td>\n",
       "      <td>Enero</td>\n",
       "      <td>2016-01-31 22:16:00</td>\n",
       "      <td>2016</td>\n",
       "      <td>Febrero</td>\n",
       "      <td>2016-02-01T00:25:44</td>\n",
       "      <td>DAÑO EN PROPIEDAD AJENA INTENCIONAL</td>\n",
       "      <td>INVESTIGACIÓN EN BENITO JUÁREZ</td>\n",
       "      <td>BJ-2</td>\n",
       "      <td>UI-3CD</td>\n",
       "      <td>DELITO DE BAJO IMPACTO</td>\n",
       "      <td>CALZ. DE TLALPAN</td>\n",
       "      <td>LAGO PTE.</td>\n",
       "      <td>AMÉRICAS UNIDAS</td>\n",
       "      <td>BENITO JUAREZ</td>\n",
       "      <td>NaN</td>\n",
       "      <td>-99.140215</td>\n",
       "      <td>19.380315</td>\n",
       "      <td>NaN</td>\n",
       "    </tr>\n",
       "    <tr>\n",
       "      <th>1</th>\n",
       "      <td>2</td>\n",
       "      <td>2016.0</td>\n",
       "      <td>Enero</td>\n",
       "      <td>2016-01-31 20:50:00</td>\n",
       "      <td>2016</td>\n",
       "      <td>Febrero</td>\n",
       "      <td>2016-02-01T00:52:37</td>\n",
       "      <td>ROBO DE VEHICULO DE SERVICIO PARTICULAR CON VI...</td>\n",
       "      <td>INVESTIGACIÓN PARA LA ATENCIÓN DEL DELITO DE R...</td>\n",
       "      <td>ORIENTEII</td>\n",
       "      <td>UI-3CD</td>\n",
       "      <td>ROBO DE VEHÍCULO CON Y SIN VIOLENCIA</td>\n",
       "      <td>SUR 25 A</td>\n",
       "      <td>GRANJEROS</td>\n",
       "      <td>LOS CIPRESES</td>\n",
       "      <td>IZTAPALAPA</td>\n",
       "      <td>NaN</td>\n",
       "      <td>-99.108403</td>\n",
       "      <td>19.352859</td>\n",
       "      <td>NaN</td>\n",
       "    </tr>\n",
       "    <tr>\n",
       "      <th>2</th>\n",
       "      <td>3</td>\n",
       "      <td>2016.0</td>\n",
       "      <td>Febrero</td>\n",
       "      <td>2016-02-01 00:30:00</td>\n",
       "      <td>2016</td>\n",
       "      <td>Febrero</td>\n",
       "      <td>2016-02-01T01:33:26</td>\n",
       "      <td>NARCOMENUDEO POSESION SIMPLE</td>\n",
       "      <td>INVESTIGACIÓN PARA LA ATENCIÓN DE NIÑOS, NIÑAS...</td>\n",
       "      <td>57</td>\n",
       "      <td>UI-3CD</td>\n",
       "      <td>DELITO DE BAJO IMPACTO</td>\n",
       "      <td>BATALLONES ROJOS</td>\n",
       "      <td>NaN</td>\n",
       "      <td>UNIDAD VICENTE GUERRERO</td>\n",
       "      <td>IZTAPALAPA</td>\n",
       "      <td>NaN</td>\n",
       "      <td>-99.061321</td>\n",
       "      <td>19.356451</td>\n",
       "      <td>NaN</td>\n",
       "    </tr>\n",
       "    <tr>\n",
       "      <th>3</th>\n",
       "      <td>4</td>\n",
       "      <td>2016.0</td>\n",
       "      <td>Enero</td>\n",
       "      <td>2016-01-31 22:00:00</td>\n",
       "      <td>2016</td>\n",
       "      <td>Febrero</td>\n",
       "      <td>2016-02-01T02:09:11</td>\n",
       "      <td>ROBO A TRANSEUNTE EN VIA PUBLICA CON VIOLENCIA</td>\n",
       "      <td>INVESTIGACIÓN EN IZTAPALAPA</td>\n",
       "      <td>IZP-6</td>\n",
       "      <td>UI-3CD</td>\n",
       "      <td>ROBO A TRANSEUNTE EN VÍA PÚBLICA CON Y SIN VIO...</td>\n",
       "      <td>GERANIO</td>\n",
       "      <td>GAVILLEROS</td>\n",
       "      <td>EMILIANO ZAPATA</td>\n",
       "      <td>IZTAPALAPA</td>\n",
       "      <td>NaN</td>\n",
       "      <td>-98.976379</td>\n",
       "      <td>19.331633</td>\n",
       "      <td>NaN</td>\n",
       "    </tr>\n",
       "    <tr>\n",
       "      <th>4</th>\n",
       "      <td>5</td>\n",
       "      <td>2015.0</td>\n",
       "      <td>Diciembre</td>\n",
       "      <td>2015-12-25 12:00:00</td>\n",
       "      <td>2016</td>\n",
       "      <td>Febrero</td>\n",
       "      <td>2016-02-01T02:16:49</td>\n",
       "      <td>DENUNCIA DE HECHOS</td>\n",
       "      <td>INVESTIGACIÓN EN BENITO JUÁREZ</td>\n",
       "      <td>BJ-1</td>\n",
       "      <td>UI-3SD</td>\n",
       "      <td>HECHO NO DELICTIVO</td>\n",
       "      <td>SAN FRANCISCO</td>\n",
       "      <td>AVENIDA COLONIA DEL VALLE</td>\n",
       "      <td>DEL VALLE CENTRO</td>\n",
       "      <td>BENITO JUAREZ</td>\n",
       "      <td>NaN</td>\n",
       "      <td>-99.172189</td>\n",
       "      <td>19.387114</td>\n",
       "      <td>NaN</td>\n",
       "    </tr>\n",
       "  </tbody>\n",
       "</table>\n",
       "</div>"
      ],
      "text/plain": [
       "   _id  ao_hechos mes_hechos         fecha_hechos  ao_inicio mes_inicio  \\\n",
       "0    1     2016.0      Enero  2016-01-31 22:16:00       2016    Febrero   \n",
       "1    2     2016.0      Enero  2016-01-31 20:50:00       2016    Febrero   \n",
       "2    3     2016.0    Febrero  2016-02-01 00:30:00       2016    Febrero   \n",
       "3    4     2016.0      Enero  2016-01-31 22:00:00       2016    Febrero   \n",
       "4    5     2015.0  Diciembre  2015-12-25 12:00:00       2016    Febrero   \n",
       "\n",
       "          fecha_inicio                                             delito  \\\n",
       "0  2016-02-01T00:25:44                DAÑO EN PROPIEDAD AJENA INTENCIONAL   \n",
       "1  2016-02-01T00:52:37  ROBO DE VEHICULO DE SERVICIO PARTICULAR CON VI...   \n",
       "2  2016-02-01T01:33:26                       NARCOMENUDEO POSESION SIMPLE   \n",
       "3  2016-02-01T02:09:11     ROBO A TRANSEUNTE EN VIA PUBLICA CON VIOLENCIA   \n",
       "4  2016-02-01T02:16:49                                 DENUNCIA DE HECHOS   \n",
       "\n",
       "                                            fiscalia    agencia  \\\n",
       "0                     INVESTIGACIÓN EN BENITO JUÁREZ       BJ-2   \n",
       "1  INVESTIGACIÓN PARA LA ATENCIÓN DEL DELITO DE R...  ORIENTEII   \n",
       "2  INVESTIGACIÓN PARA LA ATENCIÓN DE NIÑOS, NIÑAS...         57   \n",
       "3                        INVESTIGACIÓN EN IZTAPALAPA      IZP-6   \n",
       "4                     INVESTIGACIÓN EN BENITO JUÁREZ       BJ-1   \n",
       "\n",
       "  unidad_investigacion                                   categoria_delito  \\\n",
       "0               UI-3CD                             DELITO DE BAJO IMPACTO   \n",
       "1               UI-3CD               ROBO DE VEHÍCULO CON Y SIN VIOLENCIA   \n",
       "2               UI-3CD                             DELITO DE BAJO IMPACTO   \n",
       "3               UI-3CD  ROBO A TRANSEUNTE EN VÍA PÚBLICA CON Y SIN VIO...   \n",
       "4               UI-3SD                                 HECHO NO DELICTIVO   \n",
       "\n",
       "       calle_hechos              calle_hechos2           colonia_hechos  \\\n",
       "0  CALZ. DE TLALPAN                  LAGO PTE.          AMÉRICAS UNIDAS   \n",
       "1          SUR 25 A                  GRANJEROS             LOS CIPRESES   \n",
       "2  BATALLONES ROJOS                        NaN  UNIDAD VICENTE GUERRERO   \n",
       "3           GERANIO                 GAVILLEROS          EMILIANO ZAPATA   \n",
       "4     SAN FRANCISCO  AVENIDA COLONIA DEL VALLE         DEL VALLE CENTRO   \n",
       "\n",
       "  alcaldia_hechos competencia   longitud    latitud  tempo  \n",
       "0   BENITO JUAREZ         NaN -99.140215  19.380315    NaN  \n",
       "1      IZTAPALAPA         NaN -99.108403  19.352859    NaN  \n",
       "2      IZTAPALAPA         NaN -99.061321  19.356451    NaN  \n",
       "3      IZTAPALAPA         NaN -98.976379  19.331633    NaN  \n",
       "4   BENITO JUAREZ         NaN -99.172189  19.387114    NaN  "
      ]
     },
     "execution_count": 5,
     "metadata": {},
     "output_type": "execute_result"
    }
   ],
   "source": [
    "data.head()"
   ]
  },
  {
   "cell_type": "code",
   "execution_count": 6,
   "id": "determined-prison",
   "metadata": {},
   "outputs": [
    {
     "data": {
      "text/plain": [
       "_id                       int64\n",
       "ao_hechos               float64\n",
       "mes_hechos               object\n",
       "fecha_hechos             object\n",
       "ao_inicio                 int64\n",
       "mes_inicio               object\n",
       "fecha_inicio             object\n",
       "delito                   object\n",
       "fiscalia                 object\n",
       "agencia                  object\n",
       "unidad_investigacion     object\n",
       "categoria_delito         object\n",
       "calle_hechos             object\n",
       "calle_hechos2            object\n",
       "colonia_hechos           object\n",
       "alcaldia_hechos          object\n",
       "competencia              object\n",
       "longitud                float64\n",
       "latitud                 float64\n",
       "tempo                   float64\n",
       "dtype: object"
      ]
     },
     "execution_count": 6,
     "metadata": {},
     "output_type": "execute_result"
    }
   ],
   "source": [
    "data.dtypes"
   ]
  },
  {
   "cell_type": "markdown",
   "id": "juvenile-scout",
   "metadata": {},
   "source": [
    "- Valores faltantes por variables: cuando se trabaja con bases de datos es muy común tener valores faltantes en las observaciones, pues no se realizó el registro correspondiente, hubo una falla en el sistema que recopila dicha información, ... es por ello que es de suma utilidad cuantificar cuántos valores faltantes tenemos en total y además por columna. La manera de realizarlo es contar los valores faltantes por columna y esto se puede lograr con la función `isna` de `pandas` junto con `sum`. Es muy recomendable reportar estos valores en porcentaje (%), por lo que, se divide dichas cifras entre el total de datos que se tiene."
   ]
  },
  {
   "cell_type": "code",
   "execution_count": 7,
   "id": "opening-shipping",
   "metadata": {},
   "outputs": [],
   "source": [
    "n_datos = data.shape[0]"
   ]
  },
  {
   "cell_type": "code",
   "execution_count": 8,
   "id": "southwest-fireplace",
   "metadata": {},
   "outputs": [
    {
     "data": {
      "text/plain": [
       "_id                     0.000000\n",
       "ao_hechos               0.000371\n",
       "mes_hechos              0.000371\n",
       "fecha_hechos            0.000371\n",
       "ao_inicio               0.000000\n",
       "mes_inicio              0.000000\n",
       "fecha_inicio            0.000000\n",
       "delito                  0.000000\n",
       "fiscalia                0.000002\n",
       "agencia                 0.000000\n",
       "unidad_investigacion    0.000194\n",
       "categoria_delito        0.000000\n",
       "calle_hechos            0.002541\n",
       "calle_hechos2           0.607075\n",
       "colonia_hechos          0.040602\n",
       "alcaldia_hechos         0.002719\n",
       "competencia             0.910832\n",
       "longitud                0.039773\n",
       "latitud                 0.039773\n",
       "tempo                   1.000000\n",
       "dtype: float64"
      ]
     },
     "execution_count": 8,
     "metadata": {},
     "output_type": "execute_result"
    }
   ],
   "source": [
    "pd.isna(data).sum(axis=0)/n_datos"
   ]
  },
  {
   "cell_type": "markdown",
   "id": "ignored-making",
   "metadata": {},
   "source": [
    "Nótese que la columna `tempo` contiene puros valores faltantes, por lo que es recomendable seguir con el análisis sin tomar en cuenta esta variable, además la variable `competencia` contiene $91\\%$ de datos faltantes."
   ]
  },
  {
   "cell_type": "code",
   "execution_count": 9,
   "id": "cleared-tsunami",
   "metadata": {},
   "outputs": [],
   "source": [
    "data_limpia = data.loc[:,data.columns != 'tempo']\n",
    "data_limpia = data_limpia.loc[:,data_limpia.columns != 'competencia']\n",
    "data_limpia = data_limpia.loc[:,data_limpia.columns != 'calle_hechos2']\n",
    "data_limpia = data_limpia.loc[:,data_limpia.columns != 'calle_hechos']\n",
    "data_limpia = data_limpia.dropna()"
   ]
  },
  {
   "cell_type": "markdown",
   "id": "three-election",
   "metadata": {},
   "source": [
    "- Prueba ID únicos: esta prueba sirve para identificar si verdaderamente la columna que hace referencia a *id_* en realidad es un identificador único de la observación correspondiente, es de mucha utilidad tener de un identificador único por observación, ya que, en ocasiones se junta la información obtenida de una tabla con otra y esto se logra gracias a dicho identificado única. La manera de realizarla es obtener un conteo de las observaciones únicas que hay en esta columna y después verificar que la cantidad sea igual a la cantidad de datos que hay.\n"
   ]
  },
  {
   "cell_type": "code",
   "execution_count": 10,
   "id": "foreign-rotation",
   "metadata": {},
   "outputs": [
    {
     "data": {
      "text/plain": [
       "True"
      ]
     },
     "execution_count": 10,
     "metadata": {},
     "output_type": "execute_result"
    }
   ],
   "source": [
    "len(np.unique(data._id)) == n_datos"
   ]
  },
  {
   "cell_type": "markdown",
   "id": "naked-italic",
   "metadata": {},
   "source": [
    "- Introducción a los datos: esta prueba sugiero utilizarla y consiste en tener un primer acercamiento con los datos. Esto es, tener una ligera idea de cómo están distribuídos, medidas de tendencia central, dispersión, conteos,... Para ello, utilizo la función `describe` de `pandas` para los datos numéricos y obtener un conteo de cada uno de las categorías para los datos categóricos. "
   ]
  },
  {
   "cell_type": "markdown",
   "id": "cross-education",
   "metadata": {},
   "source": [
    "- Fechas correctas: dado que estamos trabajando con una base de datos que contiene variables que hacen referencia a la ocurrencia de un evento en el tiempo (fechas) es recomendable asegurarse que dicha fecha se encuentre dentro del periodo en el cual se haya definido la recopilación de los datos. Para ello basta con verificar que las fechas se enceuntren en el intervalo de tiempo definido. Para esta base de datos no encontré un intervalo pero es relevante mencionar que hay datos de años 1906-1942 que suenan \"sospechosos\" (quizá es un error de captura), mientras que las fechas más recientes hacen referencia a febrero del año 2021."
   ]
  },
  {
   "cell_type": "code",
   "execution_count": 11,
   "id": "auburn-surgery",
   "metadata": {},
   "outputs": [
    {
     "data": {
      "text/plain": [
       "727809     1906-06-02 19:00:00\n",
       "14706      1915-01-10 15:00:00\n",
       "97656      1915-09-10 10:00:00\n",
       "716046     1930-02-16 12:00:00\n",
       "710194     1942-10-22 19:00:00\n",
       "1136635    1950-01-01 12:00:00\n",
       "965945     1950-02-17 19:50:00\n",
       "1102453    1952-12-23 12:00:00\n",
       "457091     1954-05-04 19:54:00\n",
       "1155099    1955-01-02 12:00:00\n",
       "1160       1955-02-08 04:55:00\n",
       "209172     1955-12-20 08:00:00\n",
       "77013      1956-01-02 11:00:00\n",
       "9348       1956-05-01 19:00:00\n",
       "832512     1957-01-25 12:00:00\n",
       "686158     1958-10-31 08:50:00\n",
       "395242     1960-05-20 17:00:00\n",
       "1100355    1962-02-15 08:00:00\n",
       "732817     1962-12-11 11:00:00\n",
       "607521     1963-10-06 14:39:00\n",
       "Name: fecha_hechos, dtype: object"
      ]
     },
     "execution_count": 11,
     "metadata": {},
     "output_type": "execute_result"
    }
   ],
   "source": [
    "data_limpia.fecha_hechos.sort_values().head(20)"
   ]
  },
  {
   "cell_type": "markdown",
   "id": "charged-graphics",
   "metadata": {},
   "source": [
    "**2. Identifica los delitos que van a la alza y a la baja en la CDMX (ten cuidado con los delitos con pocas ocurrencias)**"
   ]
  },
  {
   "cell_type": "markdown",
   "id": "rough-breath",
   "metadata": {},
   "source": [
    "Notemos que el délito con mayor frecuencia es *DELITO DE BAJO IMPACTO* y el de menor *PLAGIO O SECUESTRO* y *FEMINICIDIO*, sin embargo, pensemos en la naturaleza de los últimos delitos es muy grave y quizá no se reporten todos los ocurridos realmente, sino que por temas de seguridad de los individuos deseen no reportarlos. Para el caso de *DELITO DE BAJO IMPACTO* es una categoría muy amplía (convendría tener una descripción amplia de qué délitos incluye). A continuación, se analizará la frecuencia de los delitos a lo largo del tiempo."
   ]
  },
  {
   "cell_type": "code",
   "execution_count": 12,
   "id": "incorporate-steam",
   "metadata": {},
   "outputs": [],
   "source": [
    "data_limpia['fecha_hechos_date'] = pd.to_datetime(data_limpia['fecha_hechos'], dayfirst=True).dt.date"
   ]
  },
  {
   "cell_type": "code",
   "execution_count": 13,
   "id": "technical-switch",
   "metadata": {},
   "outputs": [],
   "source": [
    "data_group = data_limpia.groupby(by = ['fecha_hechos_date', 'categoria_delito'])['categoria_delito'].\\\n",
    "    count().to_frame(name = 'count')"
   ]
  },
  {
   "cell_type": "code",
   "execution_count": 14,
   "id": "parliamentary-carry",
   "metadata": {},
   "outputs": [
    {
     "data": {
      "text/plain": [
       "<matplotlib.legend.Legend at 0x13a1a2668>"
      ]
     },
     "execution_count": 14,
     "metadata": {},
     "output_type": "execute_result"
    },
    {
     "data": {
      "image/png": "[encoded data removed]",
      "text/plain": [
       "<Figure size 432x288 with 1 Axes>"
      ]
     },
     "metadata": {
      "needs_background": "light"
     },
     "output_type": "display_data"
    }
   ],
   "source": [
    "plot_del = sns.lineplot(data = data_group, \n",
    "                    x = 'fecha_hechos_date', y = 'count',\n",
    "                    hue = 'categoria_delito')\n",
    "plot_del.legend(bbox_to_anchor=(1.02, 1), loc='upper left', borderaxespad=0)"
   ]
  },
  {
   "cell_type": "markdown",
   "id": "roman-brother",
   "metadata": {},
   "source": [
    "Dada la dispersión de las fechas es difícil analizar este gráfico, sin embargo, notemos que *DELITO DE BAJO IMPACTO* parece tener una mayor frecuencia en los últimos años."
   ]
  },
  {
   "cell_type": "markdown",
   "id": "working-brown",
   "metadata": {},
   "source": [
    "**3. ¿Cuál es la alcaldía que tiene más delitos y cuál es la que tiene menos? ¿Por qué crees que sea esto?**"
   ]
  },
  {
   "cell_type": "markdown",
   "id": "micro-shaft",
   "metadata": {},
   "source": [
    "Top $10$:"
   ]
  },
  {
   "cell_type": "code",
   "execution_count": 15,
   "id": "interpreted-assurance",
   "metadata": {},
   "outputs": [
    {
     "data": {
      "text/html": [
       "<div>\n",
       "<style scoped>\n",
       "    .dataframe tbody tr th:only-of-type {\n",
       "        vertical-align: middle;\n",
       "    }\n",
       "\n",
       "    .dataframe tbody tr th {\n",
       "        vertical-align: top;\n",
       "    }\n",
       "\n",
       "    .dataframe thead th {\n",
       "        text-align: right;\n",
       "    }\n",
       "</style>\n",
       "<table border=\"1\" class=\"dataframe\">\n",
       "  <thead>\n",
       "    <tr style=\"text-align: right;\">\n",
       "      <th></th>\n",
       "      <th>index</th>\n",
       "      <th>alcaldia_hechos</th>\n",
       "    </tr>\n",
       "  </thead>\n",
       "  <tbody>\n",
       "    <tr>\n",
       "      <th>5</th>\n",
       "      <td>CUAUHTEMOC</td>\n",
       "      <td>173931</td>\n",
       "    </tr>\n",
       "    <tr>\n",
       "      <th>8</th>\n",
       "      <td>IZTAPALAPA</td>\n",
       "      <td>167733</td>\n",
       "    </tr>\n",
       "    <tr>\n",
       "      <th>6</th>\n",
       "      <td>GUSTAVO A MADERO</td>\n",
       "      <td>113067</td>\n",
       "    </tr>\n",
       "    <tr>\n",
       "      <th>2</th>\n",
       "      <td>BENITO JUAREZ</td>\n",
       "      <td>96109</td>\n",
       "    </tr>\n",
       "    <tr>\n",
       "      <th>0</th>\n",
       "      <td>ALVARO OBREGON</td>\n",
       "      <td>76802</td>\n",
       "    </tr>\n",
       "    <tr>\n",
       "      <th>3</th>\n",
       "      <td>COYOACAN</td>\n",
       "      <td>76213</td>\n",
       "    </tr>\n",
       "    <tr>\n",
       "      <th>10</th>\n",
       "      <td>MIGUEL HIDALGO</td>\n",
       "      <td>74815</td>\n",
       "    </tr>\n",
       "    <tr>\n",
       "      <th>13</th>\n",
       "      <td>TLALPAN</td>\n",
       "      <td>66671</td>\n",
       "    </tr>\n",
       "    <tr>\n",
       "      <th>14</th>\n",
       "      <td>VENUSTIANO CARRANZA</td>\n",
       "      <td>65055</td>\n",
       "    </tr>\n",
       "    <tr>\n",
       "      <th>1</th>\n",
       "      <td>AZCAPOTZALCO</td>\n",
       "      <td>55986</td>\n",
       "    </tr>\n",
       "  </tbody>\n",
       "</table>\n",
       "</div>"
      ],
      "text/plain": [
       "                  index  alcaldia_hechos\n",
       "5            CUAUHTEMOC           173931\n",
       "8            IZTAPALAPA           167733\n",
       "6      GUSTAVO A MADERO           113067\n",
       "2         BENITO JUAREZ            96109\n",
       "0        ALVARO OBREGON            76802\n",
       "3              COYOACAN            76213\n",
       "10       MIGUEL HIDALGO            74815\n",
       "13              TLALPAN            66671\n",
       "14  VENUSTIANO CARRANZA            65055\n",
       "1          AZCAPOTZALCO            55986"
      ]
     },
     "execution_count": 15,
     "metadata": {},
     "output_type": "execute_result"
    }
   ],
   "source": [
    "data_limpia['alcaldia_hechos'].value_counts().sort_index().reset_index().\\\n",
    "    sort_values(by='alcaldia_hechos', ascending = False).head(10)"
   ]
  },
  {
   "cell_type": "markdown",
   "id": "grave-transparency",
   "metadata": {},
   "source": [
    "Según datos reportados de [wikipedia](https://es.wikipedia.org/wiki/Demarcaciones_territoriales_de_la_Ciudad_de_M%C3%A9xico) el *Top-10* de las alcaldías con mayor población son:\n",
    "1. Gustavo A. Madero\n",
    "1. Iztapalapa\n",
    "1. Milpa Alta\n",
    "1. Cuajimalpa de Morelos\n",
    "1. Magdalena Contreras\n",
    "1. Tláhuac\n",
    "1. Iztacalco\n",
    "1. Miguel Hidalgo\n",
    "1. Azcapotzalco\n",
    "1. Benito Juárez\n",
    "\n",
    "Notemos que 5 de ellas (Iztapalapa, Gustavo A. Madero, Benito Juárez, Miguel Hidalgo y Azcapotzalco) se encuentran dentro de las alcaldías con mayor población, lo cual puede sugerir a que las alcaldías con mayor cantidad de delitos tienen alta frecuencia dada su densidad poblacional, sin embargo, no descartemos la idea de que puede ocurrir algo dentro de las alcaldías que haga que tengan una alta tasa de delitos (falta de seguridad, alta tasa de sectas delictivas en la zona, ...)."
   ]
  },
  {
   "cell_type": "markdown",
   "id": "spectacular-michael",
   "metadata": {},
   "source": [
    "Bottom $10$:"
   ]
  },
  {
   "cell_type": "code",
   "execution_count": 16,
   "id": "built-topic",
   "metadata": {},
   "outputs": [
    {
     "data": {
      "text/html": [
       "<div>\n",
       "<style scoped>\n",
       "    .dataframe tbody tr th:only-of-type {\n",
       "        vertical-align: middle;\n",
       "    }\n",
       "\n",
       "    .dataframe tbody tr th {\n",
       "        vertical-align: top;\n",
       "    }\n",
       "\n",
       "    .dataframe thead th {\n",
       "        text-align: right;\n",
       "    }\n",
       "</style>\n",
       "<table border=\"1\" class=\"dataframe\">\n",
       "  <thead>\n",
       "    <tr style=\"text-align: right;\">\n",
       "      <th></th>\n",
       "      <th>index</th>\n",
       "      <th>alcaldia_hechos</th>\n",
       "    </tr>\n",
       "  </thead>\n",
       "  <tbody>\n",
       "    <tr>\n",
       "      <th>10</th>\n",
       "      <td>MIGUEL HIDALGO</td>\n",
       "      <td>74815</td>\n",
       "    </tr>\n",
       "    <tr>\n",
       "      <th>13</th>\n",
       "      <td>TLALPAN</td>\n",
       "      <td>66671</td>\n",
       "    </tr>\n",
       "    <tr>\n",
       "      <th>14</th>\n",
       "      <td>VENUSTIANO CARRANZA</td>\n",
       "      <td>65055</td>\n",
       "    </tr>\n",
       "    <tr>\n",
       "      <th>1</th>\n",
       "      <td>AZCAPOTZALCO</td>\n",
       "      <td>55986</td>\n",
       "    </tr>\n",
       "    <tr>\n",
       "      <th>7</th>\n",
       "      <td>IZTACALCO</td>\n",
       "      <td>48030</td>\n",
       "    </tr>\n",
       "    <tr>\n",
       "      <th>15</th>\n",
       "      <td>XOCHIMILCO</td>\n",
       "      <td>35587</td>\n",
       "    </tr>\n",
       "    <tr>\n",
       "      <th>12</th>\n",
       "      <td>TLAHUAC</td>\n",
       "      <td>26825</td>\n",
       "    </tr>\n",
       "    <tr>\n",
       "      <th>9</th>\n",
       "      <td>LA MAGDALENA CONTRERAS</td>\n",
       "      <td>18556</td>\n",
       "    </tr>\n",
       "    <tr>\n",
       "      <th>4</th>\n",
       "      <td>CUAJIMALPA DE MORELOS</td>\n",
       "      <td>16861</td>\n",
       "    </tr>\n",
       "    <tr>\n",
       "      <th>11</th>\n",
       "      <td>MILPA ALTA</td>\n",
       "      <td>7791</td>\n",
       "    </tr>\n",
       "  </tbody>\n",
       "</table>\n",
       "</div>"
      ],
      "text/plain": [
       "                     index  alcaldia_hechos\n",
       "10          MIGUEL HIDALGO            74815\n",
       "13                 TLALPAN            66671\n",
       "14     VENUSTIANO CARRANZA            65055\n",
       "1             AZCAPOTZALCO            55986\n",
       "7                IZTACALCO            48030\n",
       "15              XOCHIMILCO            35587\n",
       "12                 TLAHUAC            26825\n",
       "9   LA MAGDALENA CONTRERAS            18556\n",
       "4    CUAJIMALPA DE MORELOS            16861\n",
       "11              MILPA ALTA             7791"
      ]
     },
     "execution_count": 16,
     "metadata": {},
     "output_type": "execute_result"
    }
   ],
   "source": [
    "aux = data_limpia['alcaldia_hechos'].value_counts().sort_index().reset_index().\\\n",
    "    sort_values(by='alcaldia_hechos', ascending = False)\n",
    "aux.loc[aux.alcaldia_hechos > 20,:].tail(10)"
   ]
  },
  {
   "cell_type": "markdown",
   "id": "aggregate-greensboro",
   "metadata": {},
   "source": [
    "Para elegir el *Bottom 10* decidí mostrar aquellas alcaldías cuya cantidad de delitos fuese mayor a 20, pues hay $229$ alcaldías con un $1$ delito reportado. "
   ]
  },
  {
   "cell_type": "markdown",
   "id": "printable-straight",
   "metadata": {},
   "source": [
    "**4. ¿Existe alguna tendencia estacional en la ocurrencia de delitos (mes, semana, día de la semana, quincenas) en la CDMX? ¿A qué crees que se deba?**"
   ]
  },
  {
   "cell_type": "code",
   "execution_count": 17,
   "id": "painful-marathon",
   "metadata": {},
   "outputs": [
    {
     "name": "stderr",
     "output_type": "stream",
     "text": [
      "/Library/Frameworks/Python.framework/Versions/3.7/lib/python3.7/site-packages/ipykernel_launcher.py:3: FutureWarning: Series.dt.weekofyear and Series.dt.week have been deprecated.  Please use Series.dt.isocalendar().week instead.\n",
      "  This is separate from the ipykernel package so we can avoid doing imports until\n"
     ]
    }
   ],
   "source": [
    "data_limpia['year'] = pd.to_datetime(data_limpia['fecha_hechos'], dayfirst=True).dt.year\n",
    "data_limpia['month'] = pd.to_datetime(data_limpia['fecha_hechos'], dayfirst=True).dt.month\n",
    "data_limpia['week'] = pd.to_datetime(data_limpia['fecha_hechos'], dayfirst=True).dt.week\n",
    "data_limpia['week_day'] = pd.to_datetime(data_limpia['fecha_hechos'], dayfirst=True).dt.weekday"
   ]
  },
  {
   "cell_type": "code",
   "execution_count": 18,
   "id": "usual-intervention",
   "metadata": {},
   "outputs": [
    {
     "data": {
      "image/png": "[encoded data removed]",
      "text/plain": [
       "<Figure size 432x288 with 1 Axes>"
      ]
     },
     "metadata": {
      "needs_background": "light"
     },
     "output_type": "display_data"
    }
   ],
   "source": [
    "data_group = data_limpia.groupby(by = ['fecha_hechos_date'])['fecha_hechos_date'].\\\n",
    "    count().to_frame(name = 'count')\n",
    "plot_del = sns.lineplot(data = data_group, \n",
    "                    x = 'fecha_hechos_date', y = 'count')"
   ]
  },
  {
   "cell_type": "code",
   "execution_count": 19,
   "id": "nutritional-guitar",
   "metadata": {},
   "outputs": [
    {
     "data": {
      "image/png": "[encoded data removed]",
      "text/plain": [
       "<Figure size 432x288 with 1 Axes>"
      ]
     },
     "metadata": {
      "needs_background": "light"
     },
     "output_type": "display_data"
    }
   ],
   "source": [
    "data_group = data_limpia.groupby(by = ['year'])['categoria_delito'].\\\n",
    "    count().to_frame(name = 'count')\n",
    "plot_del = sns.lineplot(data = data_group, \n",
    "                    x = 'year', y = 'count')"
   ]
  },
  {
   "cell_type": "markdown",
   "id": "waiting-pride",
   "metadata": {},
   "source": [
    "Es difícil analizar este gráfico dada la dispersión de los años, analizaremos la información recopilada desde el año $2000$."
   ]
  },
  {
   "cell_type": "code",
   "execution_count": 20,
   "id": "english-necklace",
   "metadata": {},
   "outputs": [
    {
     "name": "stderr",
     "output_type": "stream",
     "text": [
      "/Library/Frameworks/Python.framework/Versions/3.7/lib/python3.7/site-packages/ipykernel_launcher.py:3: FutureWarning: Series.dt.weekofyear and Series.dt.week have been deprecated.  Please use Series.dt.isocalendar().week instead.\n",
      "  This is separate from the ipykernel package so we can avoid doing imports until\n"
     ]
    }
   ],
   "source": [
    "data_limpia['year'] = pd.to_datetime(data_limpia['fecha_hechos'], dayfirst=True).dt.year\n",
    "data_limpia['month'] = pd.to_datetime(data_limpia['fecha_hechos'], dayfirst=True).dt.month\n",
    "data_limpia['week'] = pd.to_datetime(data_limpia['fecha_hechos'], dayfirst=True).dt.week\n",
    "data_limpia['week_day'] = pd.to_datetime(data_limpia['fecha_hechos'], dayfirst=True).dt.weekday\n",
    "data_limpia['hour'] = pd.to_datetime(data_limpia['fecha_hechos'], dayfirst=True).dt.hour"
   ]
  },
  {
   "cell_type": "code",
   "execution_count": 21,
   "id": "adequate-virus",
   "metadata": {},
   "outputs": [],
   "source": [
    "data_filter = data_limpia.loc[data_limpia.year > 2000,:]"
   ]
  },
  {
   "cell_type": "code",
   "execution_count": 22,
   "id": "joined-detector",
   "metadata": {},
   "outputs": [
    {
     "data": {
      "image/png": "[encoded data removed]",
      "text/plain": [
       "<Figure size 432x288 with 1 Axes>"
      ]
     },
     "metadata": {
      "needs_background": "light"
     },
     "output_type": "display_data"
    }
   ],
   "source": [
    "data_group = data_filter.groupby(by = ['fecha_hechos_date'])['fecha_hechos_date'].\\\n",
    "    count().to_frame(name = 'count')\n",
    "plot_del = sns.lineplot(data = data_group, \n",
    "                    x = 'fecha_hechos_date', y = 'count')"
   ]
  },
  {
   "cell_type": "code",
   "execution_count": 23,
   "id": "wicked-coast",
   "metadata": {},
   "outputs": [
    {
     "data": {
      "text/plain": [
       "[Text(0.5, 1.0, 'Agrupación por mes'),\n",
       " Text(0.5, 0, 'Mes'),\n",
       " Text(0, 0.5, 'Frecuencia')]"
      ]
     },
     "execution_count": 23,
     "metadata": {},
     "output_type": "execute_result"
    },
    {
     "data": {
      "image/png": "[encoded data removed]",
      "text/plain": [
       "<Figure size 432x288 with 1 Axes>"
      ]
     },
     "metadata": {
      "needs_background": "light"
     },
     "output_type": "display_data"
    }
   ],
   "source": [
    "data_group = data_filter.groupby(by = ['month'])['month'].\\\n",
    "    count().to_frame(name = 'count')\n",
    "plot_del = sns.lineplot(data = data_group, \n",
    "                    x = 'month', y = 'count')\n",
    "plot_del.set_xticks(range(13))\n",
    "plot_del.set_xticklabels(['Mes','Ene', 'Feb', 'Mar', 'Abr', 'May', 'Jun', 'Jul', 'Ago', 'Sept', 'Oct', 'Nov', 'Dic'])\n",
    "plot_del.set(title='Agrupación por mes', xlabel = 'Mes', ylabel = 'Frecuencia')"
   ]
  },
  {
   "cell_type": "markdown",
   "id": "mounted-aberdeen",
   "metadata": {},
   "source": [
    "Este gráfico sugiere que la mayoría de los délitos son cometidos en enero y existe una alza en la cantidad cometidos a mediados del año, en específico, los meses de Julio-Octubre y después de este periodo comienza a disminuir."
   ]
  },
  {
   "cell_type": "code",
   "execution_count": 24,
   "id": "experimental-laser",
   "metadata": {},
   "outputs": [],
   "source": [
    "quincena = get_odd_numbers(range(1, 53))"
   ]
  },
  {
   "cell_type": "code",
   "execution_count": 25,
   "id": "dressed-launch",
   "metadata": {},
   "outputs": [
    {
     "data": {
      "image/png": "[encoded data removed]",
      "text/plain": [
       "<Figure size 432x288 with 1 Axes>"
      ]
     },
     "metadata": {
      "needs_background": "light"
     },
     "output_type": "display_data"
    }
   ],
   "source": [
    "data_group = data_filter.groupby(by = ['week'])['week'].\\\n",
    "    count().to_frame(name = 'count')\n",
    "plot_del = sns.lineplot(data = data_group, \n",
    "                    x = 'week', y = 'count')\n",
    "plot_del.set(title='Agrupación por semana mostrando ', xlabel = 'Número de semana', ylabel = 'Frecuencia')\n",
    "#plot_del.axvline(quincena)\n",
    "for xc in quincena:\n",
    "    plot_del.axvline(x=xc, color='red', linestyle='--', alpha = 0.3)"
   ]
  },
  {
   "cell_type": "markdown",
   "id": "instant-comment",
   "metadata": {},
   "source": [
    "Las franjas rosas representan si la semana correspondiente cae en quincena o no. Notemos que hay un ligero incremento en cuando hay quincena que cuando no hay. De igual manera, notemos que la cantidad de delitos cometidos disminuye drásticamente en las últimas semanas del año."
   ]
  },
  {
   "cell_type": "code",
   "execution_count": 26,
   "id": "premier-private",
   "metadata": {},
   "outputs": [
    {
     "data": {
      "text/plain": [
       "[Text(0.5, 1.0, 'Agrupación por día de la semana'),\n",
       " Text(0.5, 0, 'Día de la semana'),\n",
       " Text(0, 0.5, 'Frecuencia')]"
      ]
     },
     "execution_count": 26,
     "metadata": {},
     "output_type": "execute_result"
    },
    {
     "data": {
      "image/png": "[encoded data removed]",
      "text/plain": [
       "<Figure size 432x288 with 1 Axes>"
      ]
     },
     "metadata": {
      "needs_background": "light"
     },
     "output_type": "display_data"
    }
   ],
   "source": [
    "data_group = data_filter.groupby(by = ['week_day'])['week_day'].\\\n",
    "    count().to_frame(name = 'count')\n",
    "plot_del = sns.lineplot(data = data_group, \n",
    "                    x = 'week_day', y = 'count')\n",
    "plot_del.set_xticks(range(7))\n",
    "plot_del.set_xticklabels(['Lun', 'Mar', 'Mie',' Jue', 'Vie', 'Sab','Dom' ])\n",
    "plot_del.set(title='Agrupación por día de la semana', xlabel = 'Día de la semana', ylabel = 'Frecuencia')"
   ]
  },
  {
   "cell_type": "markdown",
   "id": "floral-particle",
   "metadata": {},
   "source": [
    "Notemos que hay un ligero incremento en los delitos cometidos cuando es día viernes, así como una gran disminución cuando es domingo."
   ]
  },
  {
   "cell_type": "code",
   "execution_count": 27,
   "id": "chinese-armstrong",
   "metadata": {},
   "outputs": [
    {
     "data": {
      "text/plain": [
       "[Text(0.5, 1.0, 'Agrupación por hora del día'),\n",
       " Text(0.5, 0, 'Hora del día'),\n",
       " Text(0, 0.5, 'Frecuencia')]"
      ]
     },
     "execution_count": 27,
     "metadata": {},
     "output_type": "execute_result"
    },
    {
     "data": {
      "image/png": "[encoded data removed]",
      "text/plain": [
       "<Figure size 432x288 with 1 Axes>"
      ]
     },
     "metadata": {
      "needs_background": "light"
     },
     "output_type": "display_data"
    }
   ],
   "source": [
    "data_group = data_filter.groupby(by = ['hour'])['hour'].\\\n",
    "    count().to_frame(name = 'count')\n",
    "plot_del = sns.lineplot(data = data_group, x = 'hour', y = 'count')\n",
    "plot_del.set(title='Agrupación por hora del día', xlabel = 'Hora del día', ylabel = 'Frecuencia')"
   ]
  },
  {
   "cell_type": "markdown",
   "id": "diverse-phoenix",
   "metadata": {},
   "source": [
    "Es muy interesante que la hora en donde se reportan más casos es alrededor de las 12 del día, lo cual puede sonar un poco extraño, pues se esperaría que los delitos tuvieran una mayor tasa a medida que la luz del sol disminuye, por lo que esperaría tener mayor frecuencia en la madrugada y noche. Sin embargo, recordemos que estos son casos reportados, no ocurridos, puede ser que los casos ocurridos en la noche no los reporte las personas dada la hora que son, temer por su seguridad, no le dieron importancia, ..."
   ]
  },
  {
   "cell_type": "markdown",
   "id": "communist-talent",
   "metadata": {},
   "source": [
    "**5. ¿Cuáles son los delitos que más caracterizan a cada alcaldía? Es decir, delitos que suceden con mayor frecuencia en una alcaldía y con menor frecuencia en las demás.**"
   ]
  },
  {
   "cell_type": "markdown",
   "id": "preliminary-drain",
   "metadata": {},
   "source": [
    "Se analizó que se tiene muchas alcaldías con muy poca frecuencia, así como delitos. Es por ello que apartir de dichas variables crearé variables auxiliares que en una misma categoriá se incluyan las categorías que contienen una frecuencia relativamente baja para ambas variables."
   ]
  },
  {
   "cell_type": "code",
   "execution_count": 28,
   "id": "bound-execution",
   "metadata": {},
   "outputs": [],
   "source": [
    "# Umbral\n",
    "threshold_percent = (100/1168250)*100\n",
    "\n",
    "series_alcaldia = pd.value_counts(data_limpia['alcaldia_hechos'])\n",
    "mask_alcaldia = (series_alcaldia / series_alcaldia.sum() * 100).lt(threshold_percent)\n",
    "\n",
    "series_delito = pd.value_counts(data_limpia['delito'])\n",
    "mask_delito = (series_delito / series_delito.sum() * 100).lt(threshold_percent)\n",
    "\n",
    "# Auxiliar de alcaldia\n",
    "data_limpia = data_limpia.assign(alcaldia_hechos_actualizada = np.where(data_limpia['alcaldia_hechos'].\\\n",
    "                                                                        isin(series_alcaldia[mask_alcaldia].index),\n",
    "                                                                        'Otra', data_limpia['alcaldia_hechos']))\n",
    "\n",
    "# Auxiliar de delito\n",
    "data_limpia = data_limpia.assign(delito_actualizada = np.where(data_limpia['delito'].\\\n",
    "                                                               isin(series_delito[mask_delito].index),\n",
    "                                                               'Otro', data_limpia['delito']))"
   ]
  },
  {
   "cell_type": "code",
   "execution_count": 29,
   "id": "standard-pathology",
   "metadata": {},
   "outputs": [],
   "source": [
    "tabla_cruzada = pd.crosstab(data_limpia.delito_actualizada, data_limpia.alcaldia_hechos_actualizada,\n",
    "                            rownames=['delito'], colnames=['alcaldia_hechos'])"
   ]
  },
  {
   "cell_type": "code",
   "execution_count": 30,
   "id": "moral-longitude",
   "metadata": {},
   "outputs": [
    {
     "data": {
      "text/html": [
       "<div>\n",
       "<style scoped>\n",
       "    .dataframe tbody tr th:only-of-type {\n",
       "        vertical-align: middle;\n",
       "    }\n",
       "\n",
       "    .dataframe tbody tr th {\n",
       "        vertical-align: top;\n",
       "    }\n",
       "\n",
       "    .dataframe thead th {\n",
       "        text-align: right;\n",
       "    }\n",
       "</style>\n",
       "<table border=\"1\" class=\"dataframe\">\n",
       "  <thead>\n",
       "    <tr style=\"text-align: right;\">\n",
       "      <th></th>\n",
       "      <th>alcaldia</th>\n",
       "      <th>delito</th>\n",
       "      <th>n</th>\n",
       "    </tr>\n",
       "  </thead>\n",
       "  <tbody>\n",
       "    <tr>\n",
       "      <th>8</th>\n",
       "      <td>IZTAPALAPA</td>\n",
       "      <td>VIOLENCIA FAMILIAR</td>\n",
       "      <td>20867</td>\n",
       "    </tr>\n",
       "    <tr>\n",
       "      <th>5</th>\n",
       "      <td>CUAUHTEMOC</td>\n",
       "      <td>FRAUDE</td>\n",
       "      <td>16983</td>\n",
       "    </tr>\n",
       "    <tr>\n",
       "      <th>6</th>\n",
       "      <td>GUSTAVO A MADERO</td>\n",
       "      <td>VIOLENCIA FAMILIAR</td>\n",
       "      <td>13417</td>\n",
       "    </tr>\n",
       "    <tr>\n",
       "      <th>2</th>\n",
       "      <td>BENITO JUAREZ</td>\n",
       "      <td>FRAUDE</td>\n",
       "      <td>9512</td>\n",
       "    </tr>\n",
       "    <tr>\n",
       "      <th>0</th>\n",
       "      <td>ALVARO OBREGON</td>\n",
       "      <td>VIOLENCIA FAMILIAR</td>\n",
       "      <td>8639</td>\n",
       "    </tr>\n",
       "    <tr>\n",
       "      <th>13</th>\n",
       "      <td>TLALPAN</td>\n",
       "      <td>VIOLENCIA FAMILIAR</td>\n",
       "      <td>8466</td>\n",
       "    </tr>\n",
       "    <tr>\n",
       "      <th>3</th>\n",
       "      <td>COYOACAN</td>\n",
       "      <td>VIOLENCIA FAMILIAR</td>\n",
       "      <td>7528</td>\n",
       "    </tr>\n",
       "    <tr>\n",
       "      <th>7</th>\n",
       "      <td>IZTACALCO</td>\n",
       "      <td>VIOLENCIA FAMILIAR</td>\n",
       "      <td>6866</td>\n",
       "    </tr>\n",
       "    <tr>\n",
       "      <th>10</th>\n",
       "      <td>MIGUEL HIDALGO</td>\n",
       "      <td>FRAUDE</td>\n",
       "      <td>6809</td>\n",
       "    </tr>\n",
       "    <tr>\n",
       "      <th>14</th>\n",
       "      <td>VENUSTIANO CARRANZA</td>\n",
       "      <td>VIOLENCIA FAMILIAR</td>\n",
       "      <td>6517</td>\n",
       "    </tr>\n",
       "    <tr>\n",
       "      <th>15</th>\n",
       "      <td>XOCHIMILCO</td>\n",
       "      <td>VIOLENCIA FAMILIAR</td>\n",
       "      <td>5777</td>\n",
       "    </tr>\n",
       "    <tr>\n",
       "      <th>1</th>\n",
       "      <td>AZCAPOTZALCO</td>\n",
       "      <td>VIOLENCIA FAMILIAR</td>\n",
       "      <td>5458</td>\n",
       "    </tr>\n",
       "    <tr>\n",
       "      <th>12</th>\n",
       "      <td>TLAHUAC</td>\n",
       "      <td>VIOLENCIA FAMILIAR</td>\n",
       "      <td>4827</td>\n",
       "    </tr>\n",
       "    <tr>\n",
       "      <th>9</th>\n",
       "      <td>LA MAGDALENA CONTRERAS</td>\n",
       "      <td>VIOLENCIA FAMILIAR</td>\n",
       "      <td>4261</td>\n",
       "    </tr>\n",
       "    <tr>\n",
       "      <th>4</th>\n",
       "      <td>CUAJIMALPA DE MORELOS</td>\n",
       "      <td>VIOLENCIA FAMILIAR</td>\n",
       "      <td>2077</td>\n",
       "    </tr>\n",
       "    <tr>\n",
       "      <th>11</th>\n",
       "      <td>MILPA ALTA</td>\n",
       "      <td>VIOLENCIA FAMILIAR</td>\n",
       "      <td>1787</td>\n",
       "    </tr>\n",
       "  </tbody>\n",
       "</table>\n",
       "</div>"
      ],
      "text/plain": [
       "                  alcaldia              delito      n\n",
       "8               IZTAPALAPA  VIOLENCIA FAMILIAR  20867\n",
       "5               CUAUHTEMOC              FRAUDE  16983\n",
       "6         GUSTAVO A MADERO  VIOLENCIA FAMILIAR  13417\n",
       "2            BENITO JUAREZ              FRAUDE   9512\n",
       "0           ALVARO OBREGON  VIOLENCIA FAMILIAR   8639\n",
       "13                 TLALPAN  VIOLENCIA FAMILIAR   8466\n",
       "3                 COYOACAN  VIOLENCIA FAMILIAR   7528\n",
       "7                IZTACALCO  VIOLENCIA FAMILIAR   6866\n",
       "10          MIGUEL HIDALGO              FRAUDE   6809\n",
       "14     VENUSTIANO CARRANZA  VIOLENCIA FAMILIAR   6517\n",
       "15              XOCHIMILCO  VIOLENCIA FAMILIAR   5777\n",
       "1             AZCAPOTZALCO  VIOLENCIA FAMILIAR   5458\n",
       "12                 TLAHUAC  VIOLENCIA FAMILIAR   4827\n",
       "9   LA MAGDALENA CONTRERAS  VIOLENCIA FAMILIAR   4261\n",
       "4    CUAJIMALPA DE MORELOS  VIOLENCIA FAMILIAR   2077\n",
       "11              MILPA ALTA  VIOLENCIA FAMILIAR   1787"
      ]
     },
     "execution_count": 30,
     "metadata": {},
     "output_type": "execute_result"
    }
   ],
   "source": [
    "alcaldia_list = []\n",
    "delito_list = []\n",
    "n_list = []\n",
    "for alcaldia in tabla_cruzada.columns:\n",
    "    alcaldia_list.append(alcaldia)\n",
    "    delito_list.append(tabla_cruzada.index.values[tabla_cruzada[alcaldia] == max(tabla_cruzada[alcaldia])][0])\n",
    "    n_list.append(max(tabla_cruzada[alcaldia]))\n",
    "df_alcaldias_delitos_max = pd.DataFrame(list(zip(alcaldia_list, delito_list, n_list)),\n",
    "                                       columns = ['alcaldia', 'delito', 'n'])\n",
    "df_alcaldias_delitos_max.sort_values(by='n', ascending=False).head(25)"
   ]
  },
  {
   "cell_type": "code",
   "execution_count": 31,
   "id": "threaded-accuracy",
   "metadata": {},
   "outputs": [
    {
     "name": "stdout",
     "output_type": "stream",
     "text": [
      "\t---ALCALDÍA:  ALVARO OBREGON\n",
      "TOP 5 DELITOS:\n",
      "delito\n",
      "VIOLENCIA FAMILIAR              8639\n",
      "AMENAZAS                        4379\n",
      "ROBO A NEGOCIO SIN VIOLENCIA    4266\n",
      "ROBO DE OBJETOS                 4166\n",
      "FRAUDE                          4162\n",
      "Name: ALVARO OBREGON, dtype: int64\n",
      "\t---ALCALDÍA:  AZCAPOTZALCO\n",
      "TOP 5 DELITOS:\n",
      "delito\n",
      "VIOLENCIA FAMILIAR                                5458\n",
      "ROBO A NEGOCIO SIN VIOLENCIA                      3970\n",
      "AMENAZAS                                          3620\n",
      "ROBO DE OBJETOS                                   3366\n",
      "ROBO A TRANSEUNTE EN VIA PUBLICA CON VIOLENCIA    3113\n",
      "Name: AZCAPOTZALCO, dtype: int64\n",
      "\t---ALCALDÍA:  BENITO JUAREZ\n",
      "TOP 5 DELITOS:\n",
      "delito\n",
      "FRAUDE                          9512\n",
      "ROBO DE ACCESORIOS DE AUTO      7909\n",
      "ROBO A NEGOCIO SIN VIOLENCIA    7684\n",
      "ROBO DE OBJETOS                 5941\n",
      "VIOLENCIA FAMILIAR              4306\n",
      "Name: BENITO JUAREZ, dtype: int64\n",
      "\t---ALCALDÍA:  COYOACAN\n",
      "TOP 5 DELITOS:\n",
      "delito\n",
      "VIOLENCIA FAMILIAR              7528\n",
      "ROBO DE OBJETOS                 5322\n",
      "ROBO A NEGOCIO SIN VIOLENCIA    5260\n",
      "FRAUDE                          4728\n",
      "AMENAZAS                        4150\n",
      "Name: COYOACAN, dtype: int64\n",
      "\t---ALCALDÍA:  CUAJIMALPA DE MORELOS\n",
      "TOP 5 DELITOS:\n",
      "delito\n",
      "VIOLENCIA FAMILIAR              2077\n",
      "FRAUDE                          1287\n",
      "ROBO A NEGOCIO SIN VIOLENCIA    1242\n",
      "ROBO DE OBJETOS                 1055\n",
      "AMENAZAS                         735\n",
      "Name: CUAJIMALPA DE MORELOS, dtype: int64\n",
      "\t---ALCALDÍA:  CUAUHTEMOC\n",
      "TOP 5 DELITOS:\n",
      "delito\n",
      "FRAUDE                                            16983\n",
      "ROBO DE OBJETOS                                   13276\n",
      "ROBO A NEGOCIO SIN VIOLENCIA                      10460\n",
      "ROBO A TRANSEUNTE EN VIA PUBLICA CON VIOLENCIA     9377\n",
      "VIOLENCIA FAMILIAR                                 8945\n",
      "Name: CUAUHTEMOC, dtype: int64\n",
      "\t---ALCALDÍA:  GUSTAVO A MADERO\n",
      "TOP 5 DELITOS:\n",
      "delito\n",
      "VIOLENCIA FAMILIAR                                13417\n",
      "ROBO A NEGOCIO SIN VIOLENCIA                       6836\n",
      "AMENAZAS                                           6160\n",
      "ROBO A TRANSEUNTE EN VIA PUBLICA CON VIOLENCIA     5876\n",
      "ROBO DE OBJETOS                                    5477\n",
      "Name: GUSTAVO A MADERO, dtype: int64\n",
      "\t---ALCALDÍA:  IZTACALCO\n",
      "TOP 5 DELITOS:\n",
      "delito\n",
      "VIOLENCIA FAMILIAR                                6866\n",
      "ROBO A TRANSEUNTE EN VIA PUBLICA CON VIOLENCIA    3150\n",
      "AMENAZAS                                          2631\n",
      "ROBO DE OBJETOS                                   2350\n",
      "FRAUDE                                            1979\n",
      "Name: IZTACALCO, dtype: int64\n",
      "\t---ALCALDÍA:  IZTAPALAPA\n",
      "TOP 5 DELITOS:\n",
      "delito\n",
      "VIOLENCIA FAMILIAR                                20867\n",
      "ROBO A TRANSEUNTE EN VIA PUBLICA CON VIOLENCIA    11626\n",
      "ROBO A NEGOCIO SIN VIOLENCIA                      10140\n",
      "AMENAZAS                                           9658\n",
      "ROBO DE OBJETOS                                    8903\n",
      "Name: IZTAPALAPA, dtype: int64\n",
      "\t---ALCALDÍA:  LA MAGDALENA CONTRERAS\n",
      "TOP 5 DELITOS:\n",
      "delito\n",
      "VIOLENCIA FAMILIAR                      4261\n",
      "AMENAZAS                                1487\n",
      "FRAUDE                                   799\n",
      "ROBO A CASA HABITACION SIN VIOLENCIA     795\n",
      "ROBO DE OBJETOS                          779\n",
      "Name: LA MAGDALENA CONTRERAS, dtype: int64\n",
      "\t---ALCALDÍA:  MIGUEL HIDALGO\n",
      "TOP 5 DELITOS:\n",
      "delito\n",
      "FRAUDE                                            6809\n",
      "ROBO DE OBJETOS                                   6042\n",
      "ROBO A TRANSEUNTE EN VIA PUBLICA CON VIOLENCIA    4960\n",
      "ROBO A NEGOCIO SIN VIOLENCIA                      4586\n",
      "VIOLENCIA FAMILIAR                                4017\n",
      "Name: MIGUEL HIDALGO, dtype: int64\n",
      "\t---ALCALDÍA:  MILPA ALTA\n",
      "TOP 5 DELITOS:\n",
      "delito\n",
      "VIOLENCIA FAMILIAR                      1787\n",
      "AMENAZAS                                 537\n",
      "ROBO A CASA HABITACION SIN VIOLENCIA     335\n",
      "ROBO DE OBJETOS                          276\n",
      "FRAUDE                                   257\n",
      "Name: MILPA ALTA, dtype: int64\n",
      "\t---ALCALDÍA:  TLAHUAC\n",
      "TOP 5 DELITOS:\n",
      "delito\n",
      "VIOLENCIA FAMILIAR                                4827\n",
      "AMENAZAS                                          1921\n",
      "ROBO A TRANSEUNTE EN VIA PUBLICA CON VIOLENCIA    1513\n",
      "ROBO DE OBJETOS                                   1207\n",
      "FRAUDE                                             943\n",
      "Name: TLAHUAC, dtype: int64\n",
      "\t---ALCALDÍA:  TLALPAN\n",
      "TOP 5 DELITOS:\n",
      "delito\n",
      "VIOLENCIA FAMILIAR              8466\n",
      "AMENAZAS                        4379\n",
      "ROBO DE OBJETOS                 4128\n",
      "ROBO A NEGOCIO SIN VIOLENCIA    3880\n",
      "FRAUDE                          3579\n",
      "Name: TLALPAN, dtype: int64\n",
      "\t---ALCALDÍA:  VENUSTIANO CARRANZA\n",
      "TOP 5 DELITOS:\n",
      "delito\n",
      "VIOLENCIA FAMILIAR                                6517\n",
      "ROBO DE OBJETOS                                   4290\n",
      "ROBO A TRANSEUNTE EN VIA PUBLICA CON VIOLENCIA    4103\n",
      "AMENAZAS                                          3943\n",
      "DENUNCIA DE HECHOS                                3353\n",
      "Name: VENUSTIANO CARRANZA, dtype: int64\n",
      "\t---ALCALDÍA:  XOCHIMILCO\n",
      "TOP 5 DELITOS:\n",
      "delito\n",
      "VIOLENCIA FAMILIAR                                       5777\n",
      "AMENAZAS                                                 2462\n",
      "ROBO A TRANSEUNTE EN VIA PUBLICA CON VIOLENCIA           2014\n",
      "ROBO DE OBJETOS                                          1555\n",
      "ROBO DE VEHICULO DE SERVICIO PARTICULAR SIN VIOLENCIA    1540\n",
      "Name: XOCHIMILCO, dtype: int64\n"
     ]
    }
   ],
   "source": [
    "for alcaldia in tabla_cruzada.columns:\n",
    "    print('\\t---ALCALDÍA: ', alcaldia)\n",
    "    print('TOP 5 DELITOS:')\n",
    "    print(tabla_cruzada[alcaldia].sort_values(ascending=False)[0:5])"
   ]
  },
  {
   "cell_type": "code",
   "execution_count": 32,
   "id": "static-royalty",
   "metadata": {},
   "outputs": [
    {
     "data": {
      "text/html": [
       "<div>\n",
       "<style scoped>\n",
       "    .dataframe tbody tr th:only-of-type {\n",
       "        vertical-align: middle;\n",
       "    }\n",
       "\n",
       "    .dataframe tbody tr th {\n",
       "        vertical-align: top;\n",
       "    }\n",
       "\n",
       "    .dataframe thead th {\n",
       "        text-align: right;\n",
       "    }\n",
       "</style>\n",
       "<table border=\"1\" class=\"dataframe\">\n",
       "  <thead>\n",
       "    <tr style=\"text-align: right;\">\n",
       "      <th></th>\n",
       "      <th>alcaldia</th>\n",
       "      <th>delito</th>\n",
       "      <th>n</th>\n",
       "    </tr>\n",
       "  </thead>\n",
       "  <tbody>\n",
       "    <tr>\n",
       "      <th>5</th>\n",
       "      <td>CUAUHTEMOC</td>\n",
       "      <td>DDH CERESO</td>\n",
       "      <td>1</td>\n",
       "    </tr>\n",
       "    <tr>\n",
       "      <th>0</th>\n",
       "      <td>ALVARO OBREGON</td>\n",
       "      <td>DDH CERESO</td>\n",
       "      <td>0</td>\n",
       "    </tr>\n",
       "    <tr>\n",
       "      <th>1</th>\n",
       "      <td>AZCAPOTZALCO</td>\n",
       "      <td>PERDIDA DE LA VIDA POR AHOGAMIENTO</td>\n",
       "      <td>0</td>\n",
       "    </tr>\n",
       "    <tr>\n",
       "      <th>2</th>\n",
       "      <td>BENITO JUAREZ</td>\n",
       "      <td>ROBO A PASAJERO EN RTP CON VIOLENCIA</td>\n",
       "      <td>0</td>\n",
       "    </tr>\n",
       "    <tr>\n",
       "      <th>3</th>\n",
       "      <td>COYOACAN</td>\n",
       "      <td>DDH CERESO</td>\n",
       "      <td>0</td>\n",
       "    </tr>\n",
       "    <tr>\n",
       "      <th>4</th>\n",
       "      <td>CUAJIMALPA DE MORELOS</td>\n",
       "      <td>DDH CERESO</td>\n",
       "      <td>0</td>\n",
       "    </tr>\n",
       "    <tr>\n",
       "      <th>6</th>\n",
       "      <td>GUSTAVO A MADERO</td>\n",
       "      <td>ROBO EN EVENTOS MASIVOS (DEPORTIVOS, CULTURALE...</td>\n",
       "      <td>0</td>\n",
       "    </tr>\n",
       "    <tr>\n",
       "      <th>7</th>\n",
       "      <td>IZTACALCO</td>\n",
       "      <td>DDH CERESO</td>\n",
       "      <td>0</td>\n",
       "    </tr>\n",
       "    <tr>\n",
       "      <th>8</th>\n",
       "      <td>IZTAPALAPA</td>\n",
       "      <td>ROBO A PASAJERO EN TROLEBUS SIN VIOLENCIA</td>\n",
       "      <td>0</td>\n",
       "    </tr>\n",
       "    <tr>\n",
       "      <th>9</th>\n",
       "      <td>LA MAGDALENA CONTRERAS</td>\n",
       "      <td>DDH CERESO</td>\n",
       "      <td>0</td>\n",
       "    </tr>\n",
       "    <tr>\n",
       "      <th>10</th>\n",
       "      <td>MIGUEL HIDALGO</td>\n",
       "      <td>ROBO A PASAJERO EN TROLEBUS SIN VIOLENCIA</td>\n",
       "      <td>0</td>\n",
       "    </tr>\n",
       "    <tr>\n",
       "      <th>11</th>\n",
       "      <td>MILPA ALTA</td>\n",
       "      <td>DDH ANONIMAS</td>\n",
       "      <td>0</td>\n",
       "    </tr>\n",
       "    <tr>\n",
       "      <th>12</th>\n",
       "      <td>TLAHUAC</td>\n",
       "      <td>DDH CERESO</td>\n",
       "      <td>0</td>\n",
       "    </tr>\n",
       "    <tr>\n",
       "      <th>13</th>\n",
       "      <td>TLALPAN</td>\n",
       "      <td>DELITOS DE ABOGADOS, PATRONOS, LITIGANTES Y AS...</td>\n",
       "      <td>0</td>\n",
       "    </tr>\n",
       "    <tr>\n",
       "      <th>14</th>\n",
       "      <td>VENUSTIANO CARRANZA</td>\n",
       "      <td>DDH CERESO</td>\n",
       "      <td>0</td>\n",
       "    </tr>\n",
       "    <tr>\n",
       "      <th>15</th>\n",
       "      <td>XOCHIMILCO</td>\n",
       "      <td>PERDIDA DE LA VIDA POR SUICIDIO EN EL METRO</td>\n",
       "      <td>0</td>\n",
       "    </tr>\n",
       "  </tbody>\n",
       "</table>\n",
       "</div>"
      ],
      "text/plain": [
       "                  alcaldia                                             delito  \\\n",
       "5               CUAUHTEMOC                                         DDH CERESO   \n",
       "0           ALVARO OBREGON                                         DDH CERESO   \n",
       "1             AZCAPOTZALCO                 PERDIDA DE LA VIDA POR AHOGAMIENTO   \n",
       "2            BENITO JUAREZ               ROBO A PASAJERO EN RTP CON VIOLENCIA   \n",
       "3                 COYOACAN                                         DDH CERESO   \n",
       "4    CUAJIMALPA DE MORELOS                                         DDH CERESO   \n",
       "6         GUSTAVO A MADERO  ROBO EN EVENTOS MASIVOS (DEPORTIVOS, CULTURALE...   \n",
       "7                IZTACALCO                                         DDH CERESO   \n",
       "8               IZTAPALAPA          ROBO A PASAJERO EN TROLEBUS SIN VIOLENCIA   \n",
       "9   LA MAGDALENA CONTRERAS                                         DDH CERESO   \n",
       "10          MIGUEL HIDALGO          ROBO A PASAJERO EN TROLEBUS SIN VIOLENCIA   \n",
       "11              MILPA ALTA                                       DDH ANONIMAS   \n",
       "12                 TLAHUAC                                         DDH CERESO   \n",
       "13                 TLALPAN  DELITOS DE ABOGADOS, PATRONOS, LITIGANTES Y AS...   \n",
       "14     VENUSTIANO CARRANZA                                         DDH CERESO   \n",
       "15              XOCHIMILCO        PERDIDA DE LA VIDA POR SUICIDIO EN EL METRO   \n",
       "\n",
       "    n  \n",
       "5   1  \n",
       "0   0  \n",
       "1   0  \n",
       "2   0  \n",
       "3   0  \n",
       "4   0  \n",
       "6   0  \n",
       "7   0  \n",
       "8   0  \n",
       "9   0  \n",
       "10  0  \n",
       "11  0  \n",
       "12  0  \n",
       "13  0  \n",
       "14  0  \n",
       "15  0  "
      ]
     },
     "execution_count": 32,
     "metadata": {},
     "output_type": "execute_result"
    }
   ],
   "source": [
    "alcaldia_list = []\n",
    "delito_list = []\n",
    "n_list = []\n",
    "for alcaldia in tabla_cruzada.columns:\n",
    "    alcaldia_list.append(alcaldia)\n",
    "    delito_list.append(tabla_cruzada.index.values[tabla_cruzada[alcaldia] == min(tabla_cruzada[alcaldia])][0])\n",
    "    n_list.append(min(tabla_cruzada[alcaldia]))\n",
    "df_alcaldias_delitos_min = pd.DataFrame(list(zip(alcaldia_list, delito_list, n_list)),\n",
    "                                       columns = ['alcaldia', 'delito', 'n'])\n",
    "df_alcaldias_delitos_min.sort_values(by='n', ascending=False)"
   ]
  },
  {
   "cell_type": "code",
   "execution_count": 33,
   "id": "buried-incident",
   "metadata": {},
   "outputs": [
    {
     "name": "stdout",
     "output_type": "stream",
     "text": [
      "\t---ALCALDÍA:  ALVARO OBREGON\n",
      "BOTTOM 5 DELITOS:\n",
      "delito\n",
      "DDH CERESO                                                                       0\n",
      "PERDIDA DE LA VIDA POR SUICIDIO EN EL METRO                                      1\n",
      "ROBO EN EVENTOS MASIVOS (DEPORTIVOS, CULTURALES, RELIGIOSOS Y ARTISTICOS) S/V    1\n",
      "ROBO A TRANSPORTISTA Y VEHICULO PESADO CON VIOLENCIA                             1\n",
      "ROBO A PASAJERO EN TROLEBUS SIN VIOLENCIA                                        1\n",
      "Name: ALVARO OBREGON, dtype: int64\n",
      "\t---ALCALDÍA:  AZCAPOTZALCO\n",
      "BOTTOM 5 DELITOS:\n",
      "delito\n",
      "ROBO EN EVENTOS MASIVOS (DEPORTIVOS, CULTURALES, RELIGIOSOS Y ARTISTICOS) S/V    0\n",
      "PERDIDA DE LA VIDA POR AHOGAMIENTO                                               0\n",
      "DDH CERESO                                                                       1\n",
      "USURPACION DE FUNCIONES PUBLICAS                                                 1\n",
      "PERDIDA DE LA VIDA POR CONGESTION ALCOHOLICA                                     1\n",
      "Name: AZCAPOTZALCO, dtype: int64\n",
      "\t---ALCALDÍA:  BENITO JUAREZ\n",
      "BOTTOM 5 DELITOS:\n",
      "delito\n",
      "ROBO A PASAJERO EN RTP CON VIOLENCIA                                             0\n",
      "PORNOGRAFÍA                                                                      1\n",
      "DDH CERESO                                                                       1\n",
      "PERDIDA DE LA VIDA POR AHOGAMIENTO                                               1\n",
      "ROBO EN EVENTOS MASIVOS (DEPORTIVOS, CULTURALES, RELIGIOSOS Y ARTISTICOS) S/V    2\n",
      "Name: BENITO JUAREZ, dtype: int64\n",
      "\t---ALCALDÍA:  COYOACAN\n",
      "BOTTOM 5 DELITOS:\n",
      "delito\n",
      "DDH CERESO                                                                       0\n",
      "OPERACIONES CON RECURSOS DE PROCEDENCIA ILICITA                                  2\n",
      "ROBO EN EVENTOS MASIVOS (DEPORTIVOS, CULTURALES, RELIGIOSOS Y ARTISTICOS) S/V    2\n",
      "ROBO A PASAJERO A BORDO DE METROBUS CON VIOLENCIA                                3\n",
      "HOMICIDIO CULPOSO POR ARMA DE FUEGO                                              3\n",
      "Name: COYOACAN, dtype: int64\n",
      "\t---ALCALDÍA:  CUAJIMALPA DE MORELOS\n",
      "BOTTOM 5 DELITOS:\n",
      "delito\n",
      "ROBO EN EVENTOS MASIVOS (DEPORTIVOS, CULTURALES, RELIGIOSOS Y ARTISTICOS) S/V    0\n",
      "ROBO A NEGOCIO Y VEHICULO CON VIOLENCIA                                          0\n",
      "ROBO A PASAJERO A BORDO DE METROBUS CON VIOLENCIA                                0\n",
      "USURPACION DE FUNCIONES                                                          0\n",
      "DDH CERESO                                                                       0\n",
      "Name: CUAJIMALPA DE MORELOS, dtype: int64\n",
      "\t---ALCALDÍA:  CUAUHTEMOC\n",
      "BOTTOM 5 DELITOS:\n",
      "delito\n",
      "DDH CERESO                                            1\n",
      "ROBO A CASA HABITACION Y VEHICULO CON VIOLENCIA       4\n",
      "ROBO A CASA HABITACION Y VEHICULO SIN VIOLENCIA       5\n",
      "ROBO DE VEHICULO DE SERVICIO OFICIAL SIN VIOLENCIA    5\n",
      "PERDIDA DE LA VIDA POR AHOGAMIENTO                    5\n",
      "Name: CUAUHTEMOC, dtype: int64\n",
      "\t---ALCALDÍA:  GUSTAVO A MADERO\n",
      "BOTTOM 5 DELITOS:\n",
      "delito\n",
      "ROBO EN EVENTOS MASIVOS (DEPORTIVOS, CULTURALES, RELIGIOSOS Y ARTISTICOS) S/V                  0\n",
      "ROBO A LOCALES SEMIFIJOS (PUESTOS DE ALIMENTOS,BEBIDAS, ENSERES, PERIODICOS,LOTERIA, OTROS)    4\n",
      "VIOLACION TUMULTUARIA                                                                          6\n",
      "ROBO A PASAJERO EN TROLEBUS SIN VIOLENCIA                                                      7\n",
      "ROBO A NEGOCIO Y VEHICULO CON VIOLENCIA                                                        9\n",
      "Name: GUSTAVO A MADERO, dtype: int64\n",
      "\t---ALCALDÍA:  IZTACALCO\n",
      "BOTTOM 5 DELITOS:\n",
      "delito\n",
      "DDH CERESO                                      0\n",
      "PERDIDA DE LA VIDA POR CONGESTION ALCOHOLICA    1\n",
      "PORNOGRAFÍA                                     2\n",
      "ROBO A PASAJERO EN TROLEBUS SIN VIOLENCIA       2\n",
      "RETENCIÓN DE MENORES                            2\n",
      "Name: IZTACALCO, dtype: int64\n",
      "\t---ALCALDÍA:  IZTAPALAPA\n",
      "BOTTOM 5 DELITOS:\n",
      "delito\n",
      "ROBO EN EVENTOS MASIVOS (DEPORTIVOS, CULTURALES, RELIGIOSOS Y ARTISTICOS) S/V    0\n",
      "ROBO A PASAJERO EN TROLEBUS SIN VIOLENCIA                                        0\n",
      "OPERACIONES CON RECURSOS DE PROCEDENCIA ILICITA                                  2\n",
      "USURPACION DE FUNCIONES                                                          8\n",
      "ROBO A PASAJERO A BORDO DE METROBUS CON VIOLENCIA                                9\n",
      "Name: IZTAPALAPA, dtype: int64\n",
      "\t---ALCALDÍA:  LA MAGDALENA CONTRERAS\n",
      "BOTTOM 5 DELITOS:\n",
      "delito\n",
      "DELITOS DE ABOGADOS, PATRONOS, LITIGANTES Y ASESORES JURIDICOS                                 0\n",
      "ROBO A LOCALES SEMIFIJOS (PUESTOS DE ALIMENTOS,BEBIDAS, ENSERES, PERIODICOS,LOTERIA, OTROS)    0\n",
      "ROBO A PASAJERO EN TROLEBUS SIN VIOLENCIA                                                      0\n",
      "ROBO A PASAJERO A BORDO DE METROBUS SIN VIOLENCIA                                              0\n",
      "ROBO A PASAJERO EN RTP CON VIOLENCIA                                                           0\n",
      "Name: LA MAGDALENA CONTRERAS, dtype: int64\n",
      "\t---ALCALDÍA:  MIGUEL HIDALGO\n",
      "BOTTOM 5 DELITOS:\n",
      "delito\n",
      "VIOLACION TUMULTUARIA                                0\n",
      "ROBO A PASAJERO EN TROLEBUS SIN VIOLENCIA            0\n",
      "DDH CERESO                                           1\n",
      "PERDIDA DE LA VIDA POR AHOGAMIENTO                   1\n",
      "ROBO A PASAJERO A BORDO DE METROBUS CON VIOLENCIA    2\n",
      "Name: MIGUEL HIDALGO, dtype: int64\n",
      "\t---ALCALDÍA:  MILPA ALTA\n",
      "BOTTOM 5 DELITOS:\n",
      "delito\n",
      "ROBO A PASAJERO A BORDO DE METROBUS CON VIOLENCIA           0\n",
      "ROBO DE VEHICULO DE SERVICIO DE TRANSPORTE SIN VIOLENCIA    0\n",
      "ROBO DE VEHICULO DE SERVICIO DE TRANSPORTE CON VIOLENCIA    0\n",
      "LESIONES CULPOSAS ACCIDENTE LABORAL                         0\n",
      "ROBO A TRANSPORTISTA Y VEHICULO PESADO CON VIOLENCIA        0\n",
      "Name: MILPA ALTA, dtype: int64\n",
      "\t---ALCALDÍA:  TLAHUAC\n",
      "BOTTOM 5 DELITOS:\n",
      "delito\n",
      "ROBO A PASAJERO A BORDO DE METROBUS CON VIOLENCIA    0\n",
      "PERDIDA DE LA VIDA POR SUICIDIO EN EL METRO          0\n",
      "DDH CERESO                                           0\n",
      "OPERACIONES CON RECURSOS DE PROCEDENCIA ILICITA      0\n",
      "ROBO A PASAJERO EN TROLEBUS SIN VIOLENCIA            0\n",
      "Name: TLAHUAC, dtype: int64\n",
      "\t---ALCALDÍA:  TLALPAN\n",
      "BOTTOM 5 DELITOS:\n",
      "delito\n",
      "ROBO A PASAJERO A BORDO DE METRO CON VIOLENCIA                    0\n",
      "ROBO A PASAJERO EN TROLEBUS SIN VIOLENCIA                         0\n",
      "PERDIDA DE LA VIDA POR SUICIDIO EN EL METRO                       0\n",
      "DELITOS DE ABOGADOS, PATRONOS, LITIGANTES Y ASESORES JURIDICOS    0\n",
      "ROBO A PASAJERO A BORDO DE METRO SIN VIOLENCIA                    1\n",
      "Name: TLALPAN, dtype: int64\n",
      "\t---ALCALDÍA:  VENUSTIANO CARRANZA\n",
      "BOTTOM 5 DELITOS:\n",
      "delito\n",
      "PERDIDA DE LA VIDA POR AHOGAMIENTO                                               0\n",
      "DDH CERESO                                                                       0\n",
      "ROBO A PASAJERO EN TROLEBUS SIN VIOLENCIA                                        1\n",
      "ROBO EN EVENTOS MASIVOS (DEPORTIVOS, CULTURALES, RELIGIOSOS Y ARTISTICOS) S/V    1\n",
      "ROBO A NEGOCIO Y VEHICULO CON VIOLENCIA                                          3\n",
      "Name: VENUSTIANO CARRANZA, dtype: int64\n",
      "\t---ALCALDÍA:  XOCHIMILCO\n",
      "BOTTOM 5 DELITOS:\n",
      "delito\n",
      "ROBO EN EVENTOS MASIVOS (DEPORTIVOS, CULTURALES, RELIGIOSOS Y ARTISTICOS) S/V    0\n",
      "PERDIDA DE LA VIDA POR SUICIDIO EN EL METRO                                      0\n",
      "ROBO A PASAJERO A BORDO DE METRO CON VIOLENCIA                                   0\n",
      "ROBO A PASAJERO A BORDO DE METROBUS CON VIOLENCIA                                1\n",
      "DDH CERESO                                                                       1\n",
      "Name: XOCHIMILCO, dtype: int64\n"
     ]
    }
   ],
   "source": [
    "for alcaldia in tabla_cruzada.columns:\n",
    "    print('\\t---ALCALDÍA: ', alcaldia)\n",
    "    print('BOTTOM 5 DELITOS:')\n",
    "    print(tabla_cruzada[alcaldia].sort_values(ascending=True)[0:5])"
   ]
  },
  {
   "cell_type": "markdown",
   "id": "awful-europe",
   "metadata": {},
   "source": [
    "**6. Diseña un indicador que mida el nivel de “inseguridad”. Genéralo al nivel de desagregación que te parezca más adecuado (ej. manzana, calle, AGEB, etc.). Analiza los resultados ¿Encontraste algún patrón interesante? ¿Qué decisiones se podrían tomar con el indicador?**"
   ]
  },
  {
   "cell_type": "markdown",
   "id": "junior-luther",
   "metadata": {},
   "source": [
    "El indicador que crearé se basa en las siguientes variables:\n",
    "- Categoría delito\n",
    "- Longitud, ya que, tengo la teoría de que puede haber una relación entre la zona donde ocurrió el delito es importante\n",
    "- Latitud, ya que, tengo la teoría de que puede haber una relación entre la zona donde ocurrió el delito es importante\n",
    "- Número de semana, ya que, se observó que en quincena hay un ligero incremento.\n",
    "- Mes del año, ya que, se observó que los domingos hay decremento, mientras que los viernes, incremento."
   ]
  },
  {
   "cell_type": "code",
   "execution_count": 34,
   "id": "ordinary-outside",
   "metadata": {},
   "outputs": [],
   "source": [
    "data_limpia['week_sin'] = np.sin(data_limpia['week'])\n",
    "data_limpia['week_cos'] = np.cos(data_limpia['week'])\n",
    "\n",
    "data_limpia['month_sin'] = np.sin(data_limpia['month'])\n",
    "data_limpia['month_cos'] = np.cos(data_limpia['month'])"
   ]
  },
  {
   "cell_type": "code",
   "execution_count": 35,
   "id": "cheap-anger",
   "metadata": {},
   "outputs": [],
   "source": [
    "data_indicador = data_limpia[['longitud', 'latitud', \n",
    "                              'week_sin', 'week_cos', 'month_sin', 'month_cos']]"
   ]
  },
  {
   "cell_type": "code",
   "execution_count": 36,
   "id": "continent-uzbekistan",
   "metadata": {},
   "outputs": [],
   "source": [
    "### Transformación de datos\n",
    "# Tipos de features\n",
    "numeric_features = data_indicador.select_dtypes(include=['float64', 'int']).columns.to_list()\n",
    "\n",
    "# Transformadores\n",
    "transformers = [('standar_scaler', MinMaxScaler(), numeric_features)]\n",
    "preprocessor = ColumnTransformer(transformers,\n",
    "                                     remainder='passthrough')\n",
    "\n",
    "# Transformacion\n",
    "data_transf = preprocessor.fit_transform(data_indicador)\n",
    "#data_dense = data_transf.todense()\n",
    "\n",
    "# Tomando los nombres de las categorias del onehot\n",
    "#encoded_cat = preprocessor.named_transformers_['onehot'].get_feature_names(categoric_features)\n",
    "#labels = np.concatenate([encoded_cat, numeric_features])\n",
    "labels = np.concatenate([numeric_features])\n",
    "labels = labels.tolist()\n",
    "\n",
    "# Data final\n",
    "#data_pca = pd.DataFrame(data_dense, columns=labels)\n",
    "data_pca = pd.DataFrame(data_transf, columns=labels)"
   ]
  },
  {
   "cell_type": "code",
   "execution_count": 37,
   "id": "exposed-contrary",
   "metadata": {},
   "outputs": [
    {
     "data": {
      "text/html": [
       "<div>\n",
       "<style scoped>\n",
       "    .dataframe tbody tr th:only-of-type {\n",
       "        vertical-align: middle;\n",
       "    }\n",
       "\n",
       "    .dataframe tbody tr th {\n",
       "        vertical-align: top;\n",
       "    }\n",
       "\n",
       "    .dataframe thead th {\n",
       "        text-align: right;\n",
       "    }\n",
       "</style>\n",
       "<table border=\"1\" class=\"dataframe\">\n",
       "  <thead>\n",
       "    <tr style=\"text-align: right;\">\n",
       "      <th></th>\n",
       "      <th>longitud</th>\n",
       "      <th>latitud</th>\n",
       "      <th>week_sin</th>\n",
       "      <th>week_cos</th>\n",
       "      <th>month_sin</th>\n",
       "      <th>month_cos</th>\n",
       "    </tr>\n",
       "  </thead>\n",
       "  <tbody>\n",
       "    <tr>\n",
       "      <th>0</th>\n",
       "      <td>0.849536</td>\n",
       "      <td>0.583961</td>\n",
       "      <td>0.121600</td>\n",
       "      <td>0.173176</td>\n",
       "      <td>0.925660</td>\n",
       "      <td>0.784701</td>\n",
       "    </tr>\n",
       "    <tr>\n",
       "      <th>1</th>\n",
       "      <td>0.874291</td>\n",
       "      <td>0.527697</td>\n",
       "      <td>0.121600</td>\n",
       "      <td>0.173176</td>\n",
       "      <td>0.925660</td>\n",
       "      <td>0.784701</td>\n",
       "    </tr>\n",
       "    <tr>\n",
       "      <th>2</th>\n",
       "      <td>0.910929</td>\n",
       "      <td>0.535058</td>\n",
       "      <td>0.020534</td>\n",
       "      <td>0.641874</td>\n",
       "      <td>0.959755</td>\n",
       "      <td>0.294255</td>\n",
       "    </tr>\n",
       "    <tr>\n",
       "      <th>3</th>\n",
       "      <td>0.977028</td>\n",
       "      <td>0.484199</td>\n",
       "      <td>0.121600</td>\n",
       "      <td>0.173176</td>\n",
       "      <td>0.925660</td>\n",
       "      <td>0.784701</td>\n",
       "    </tr>\n",
       "    <tr>\n",
       "      <th>4</th>\n",
       "      <td>0.824655</td>\n",
       "      <td>0.597894</td>\n",
       "      <td>0.993358</td>\n",
       "      <td>0.418526</td>\n",
       "      <td>0.232949</td>\n",
       "      <td>0.940356</td>\n",
       "    </tr>\n",
       "  </tbody>\n",
       "</table>\n",
       "</div>"
      ],
      "text/plain": [
       "   longitud   latitud  week_sin  week_cos  month_sin  month_cos\n",
       "0  0.849536  0.583961  0.121600  0.173176   0.925660   0.784701\n",
       "1  0.874291  0.527697  0.121600  0.173176   0.925660   0.784701\n",
       "2  0.910929  0.535058  0.020534  0.641874   0.959755   0.294255\n",
       "3  0.977028  0.484199  0.121600  0.173176   0.925660   0.784701\n",
       "4  0.824655  0.597894  0.993358  0.418526   0.232949   0.940356"
      ]
     },
     "execution_count": 37,
     "metadata": {},
     "output_type": "execute_result"
    }
   ],
   "source": [
    "data_pca.head(5)"
   ]
  },
  {
   "cell_type": "markdown",
   "id": "productive-windsor",
   "metadata": {},
   "source": [
    "La metodología que utilizaré para la creación del nivel de inseguridad es **PCA**, pues ha tenido un buen desempeño para la creación de rankings."
   ]
  },
  {
   "cell_type": "markdown",
   "id": "rental-individual",
   "metadata": {},
   "source": [
    "Como primer paso eliminamos los registros con valores faltantes"
   ]
  },
  {
   "cell_type": "code",
   "execution_count": 38,
   "id": "corporate-spider",
   "metadata": {},
   "outputs": [
    {
     "data": {
      "text/plain": [
       "longitud     0.0\n",
       "latitud      0.0\n",
       "week_sin     0.0\n",
       "week_cos     0.0\n",
       "month_sin    0.0\n",
       "month_cos    0.0\n",
       "dtype: float64"
      ]
     },
     "execution_count": 38,
     "metadata": {},
     "output_type": "execute_result"
    }
   ],
   "source": [
    "pd.isna(data_pca).sum(axis=0)/n_datos"
   ]
  },
  {
   "cell_type": "code",
   "execution_count": 39,
   "id": "muslim-egyptian",
   "metadata": {},
   "outputs": [],
   "source": [
    "data_pca = data_pca.dropna()"
   ]
  },
  {
   "cell_type": "code",
   "execution_count": 40,
   "id": "ongoing-burner",
   "metadata": {},
   "outputs": [],
   "source": [
    "pca_pipe = make_pipeline(StandardScaler(), PCA())\n",
    "pca_pipe.fit(data_pca)\n",
    "modelo_pca = pca_pipe.named_steps['pca']"
   ]
  },
  {
   "cell_type": "code",
   "execution_count": 41,
   "id": "productive-capital",
   "metadata": {},
   "outputs": [
    {
     "data": {
      "image/png": "[encoded data removed]",
      "text/plain": [
       "<Figure size 432x288 with 1 Axes>"
      ]
     },
     "metadata": {
      "needs_background": "light"
     },
     "output_type": "display_data"
    }
   ],
   "source": [
    "# Porcentaje de varianza explicada acumulada\n",
    "prop_varianza_acum = modelo_pca.explained_variance_ratio_.cumsum()\n",
    "fig, ax = plt.subplots(nrows=1, ncols=1, figsize=(6, 4))\n",
    "ax.plot(\n",
    "    np.arange(len(data_pca.columns)) + 1,\n",
    "    prop_varianza_acum,\n",
    "    marker = 'o'\n",
    ")\n",
    "\n",
    "for x, y in zip(np.arange(len(data_pca.columns)) + 1, prop_varianza_acum):\n",
    "    label = round(y, 2)\n",
    "    ax.annotate(\n",
    "        label,\n",
    "        (x,y),\n",
    "        textcoords=\"offset points\",\n",
    "        xytext=(0,10),\n",
    "        ha='center'\n",
    "    )\n",
    "    \n",
    "ax.set_ylim(0, 1.1)\n",
    "ax.set_xticks(np.arange(modelo_pca.n_components_) + 1)\n",
    "ax.set_title('Porcentaje de varianza explicada acumulada')\n",
    "ax.set_xlabel('Componente principal')\n",
    "ax.set_ylabel('Por. varianza acumulada');"
   ]
  },
  {
   "cell_type": "markdown",
   "id": "handed-majority",
   "metadata": {},
   "source": [
    "Como primer, punto observamos que el porcentaje de varianza explicada por cada componente es muy bajo para cada una de las componentes principales. Para fines, prácticos supongamos que basta con la primer componente y el porcentaje de varianza explicado por dicha componente es suficiente."
   ]
  },
  {
   "cell_type": "code",
   "execution_count": 42,
   "id": "efficient-engagement",
   "metadata": {},
   "outputs": [
    {
     "data": {
      "text/html": [
       "<div>\n",
       "<style scoped>\n",
       "    .dataframe tbody tr th:only-of-type {\n",
       "        vertical-align: middle;\n",
       "    }\n",
       "\n",
       "    .dataframe tbody tr th {\n",
       "        vertical-align: top;\n",
       "    }\n",
       "\n",
       "    .dataframe thead th {\n",
       "        text-align: right;\n",
       "    }\n",
       "</style>\n",
       "<table border=\"1\" class=\"dataframe\">\n",
       "  <thead>\n",
       "    <tr style=\"text-align: right;\">\n",
       "      <th></th>\n",
       "      <th>PC1</th>\n",
       "      <th>PC2</th>\n",
       "      <th>PC3</th>\n",
       "      <th>PC4</th>\n",
       "      <th>PC5</th>\n",
       "      <th>PC6</th>\n",
       "    </tr>\n",
       "  </thead>\n",
       "  <tbody>\n",
       "    <tr>\n",
       "      <th>0</th>\n",
       "      <td>-0.034366</td>\n",
       "      <td>0.215613</td>\n",
       "      <td>-0.047491</td>\n",
       "      <td>-1.039184</td>\n",
       "      <td>1.734674</td>\n",
       "      <td>0.101483</td>\n",
       "    </tr>\n",
       "    <tr>\n",
       "      <th>1</th>\n",
       "      <td>-0.689691</td>\n",
       "      <td>0.230040</td>\n",
       "      <td>-0.038288</td>\n",
       "      <td>-1.043790</td>\n",
       "      <td>1.731699</td>\n",
       "      <td>0.003397</td>\n",
       "    </tr>\n",
       "    <tr>\n",
       "      <th>2</th>\n",
       "      <td>-1.211436</td>\n",
       "      <td>1.199591</td>\n",
       "      <td>-1.201300</td>\n",
       "      <td>-0.027406</td>\n",
       "      <td>1.009767</td>\n",
       "      <td>-0.580898</td>\n",
       "    </tr>\n",
       "    <tr>\n",
       "      <th>3</th>\n",
       "      <td>-2.468465</td>\n",
       "      <td>0.267811</td>\n",
       "      <td>-0.023109</td>\n",
       "      <td>-1.060693</td>\n",
       "      <td>1.716557</td>\n",
       "      <td>-1.344928</td>\n",
       "    </tr>\n",
       "    <tr>\n",
       "      <th>4</th>\n",
       "      <td>0.386327</td>\n",
       "      <td>-1.754079</td>\n",
       "      <td>1.000502</td>\n",
       "      <td>0.033933</td>\n",
       "      <td>-0.301463</td>\n",
       "      <td>0.413151</td>\n",
       "    </tr>\n",
       "  </tbody>\n",
       "</table>\n",
       "</div>"
      ],
      "text/plain": [
       "        PC1       PC2       PC3       PC4       PC5       PC6\n",
       "0 -0.034366  0.215613 -0.047491 -1.039184  1.734674  0.101483\n",
       "1 -0.689691  0.230040 -0.038288 -1.043790  1.731699  0.003397\n",
       "2 -1.211436  1.199591 -1.201300 -0.027406  1.009767 -0.580898\n",
       "3 -2.468465  0.267811 -0.023109 -1.060693  1.716557 -1.344928\n",
       "4  0.386327 -1.754079  1.000502  0.033933 -0.301463  0.413151"
      ]
     },
     "execution_count": 42,
     "metadata": {},
     "output_type": "execute_result"
    }
   ],
   "source": [
    "proyecciones = pca_pipe.transform(X=data_pca)\n",
    "proyecciones = pd.DataFrame(\n",
    "    proyecciones,\n",
    "    columns = ['PC1', 'PC2', 'PC3', 'PC4', 'PC5', 'PC6'],\n",
    "    index   = data_pca.index\n",
    ")\n",
    "proyecciones.head()"
   ]
  },
  {
   "cell_type": "code",
   "execution_count": 43,
   "id": "accessible-parking",
   "metadata": {},
   "outputs": [],
   "source": [
    "data_limpia['ranking'] = proyecciones.PC1"
   ]
  },
  {
   "cell_type": "code",
   "execution_count": 44,
   "id": "patient-design",
   "metadata": {},
   "outputs": [
    {
     "data": {
      "text/plain": [
       "categoria_delito\n",
       "FEMINICIDIO                                                0.326646\n",
       "ROBO A PASAJERO A BORDO DE TAXI CON VIOLENCIA              0.013118\n",
       "ROBO A PASAJERO A BORDO DE MICROBUS CON Y SIN VIOLENCIA    0.011196\n",
       "ROBO A CUENTAHABIENTE SALIENDO DEL CAJERO CON VIOLENCIA    0.005080\n",
       "VIOLACIÓN                                                  0.003812\n",
       "ROBO DE VEHÍCULO CON Y SIN VIOLENCIA                       0.000923\n",
       "HOMICIDIO DOLOSO                                           0.000750\n",
       "DELITO DE BAJO IMPACTO                                     0.000556\n",
       "ROBO A TRANSEUNTE EN VÍA PÚBLICA CON Y SIN VIOLENCIA       0.000230\n",
       "ROBO A PASAJERO A BORDO DEL METRO CON Y SIN VIOLENCIA     -0.000216\n",
       "LESIONES DOLOSAS POR DISPARO DE ARMA DE FUEGO             -0.000626\n",
       "HECHO NO DELICTIVO                                        -0.002903\n",
       "ROBO A NEGOCIO CON VIOLENCIA                              -0.017219\n",
       "ROBO A CASA HABITACIÓN CON VIOLENCIA                      -0.019743\n",
       "ROBO A REPARTIDOR CON Y SIN VIOLENCIA                     -0.021216\n",
       "ROBO A TRANSPORTISTA CON Y SIN VIOLENCIA                  -0.070123\n",
       "SECUESTRO                                                 -0.119248\n",
       "Name: ranking, dtype: float64"
      ]
     },
     "execution_count": 44,
     "metadata": {},
     "output_type": "execute_result"
    }
   ],
   "source": [
    "data_limpia.groupby('categoria_delito')['ranking'].mean().sort_values(ascending=False)"
   ]
  },
  {
   "cell_type": "markdown",
   "id": "incoming-repair",
   "metadata": {},
   "source": [
    "Notemos en primera instancia que la mayoría de los delitos con valor positivo del ranking (en promedio), tienen asociado la muerte de una persona o bien los caracterizo como delitos de mayor gravedad, pues directamente hay una muerte o violación. Mientras que, para los de valor negativo no se llega a tal grado."
   ]
  },
  {
   "cell_type": "code",
   "execution_count": 45,
   "id": "capable-integrity",
   "metadata": {},
   "outputs": [
    {
     "data": {
      "text/plain": [
       "alcaldia_hechos\n",
       "TLALPAN                   0.005947\n",
       "CUAUHTEMOC                0.004031\n",
       "IZTAPALAPA                0.003570\n",
       "IZTACALCO                 0.000986\n",
       "TLAHUAC                   0.000585\n",
       "AZCAPOTZALCO              0.000456\n",
       "BENITO JUAREZ            -0.000969\n",
       "VENUSTIANO CARRANZA      -0.002288\n",
       "MIGUEL HIDALGO           -0.002348\n",
       "ALVARO OBREGON           -0.002542\n",
       "GUSTAVO A MADERO         -0.002904\n",
       "CUAJIMALPA DE MORELOS    -0.005105\n",
       "COYOACAN                 -0.005727\n",
       "LA MAGDALENA CONTRERAS   -0.007726\n",
       "MILPA ALTA               -0.007753\n",
       "XOCHIMILCO               -0.009322\n",
       "Name: ranking, dtype: float64"
      ]
     },
     "execution_count": 45,
     "metadata": {},
     "output_type": "execute_result"
    }
   ],
   "source": [
    "data_limpia.groupby('alcaldia_hechos')['ranking'].mean().sort_values(ascending=False)"
   ]
  },
  {
   "cell_type": "code",
   "execution_count": 46,
   "id": "quiet-flour",
   "metadata": {},
   "outputs": [
    {
     "data": {
      "text/html": [
       "<div>\n",
       "<style scoped>\n",
       "    .dataframe tbody tr th:only-of-type {\n",
       "        vertical-align: middle;\n",
       "    }\n",
       "\n",
       "    .dataframe tbody tr th {\n",
       "        vertical-align: top;\n",
       "    }\n",
       "\n",
       "    .dataframe thead th {\n",
       "        text-align: right;\n",
       "    }\n",
       "</style>\n",
       "<table border=\"1\" class=\"dataframe\">\n",
       "  <thead>\n",
       "    <tr style=\"text-align: right;\">\n",
       "      <th></th>\n",
       "      <th>index</th>\n",
       "      <th>alcaldia_hechos</th>\n",
       "    </tr>\n",
       "  </thead>\n",
       "  <tbody>\n",
       "    <tr>\n",
       "      <th>5</th>\n",
       "      <td>CUAUHTEMOC</td>\n",
       "      <td>173931</td>\n",
       "    </tr>\n",
       "    <tr>\n",
       "      <th>8</th>\n",
       "      <td>IZTAPALAPA</td>\n",
       "      <td>167733</td>\n",
       "    </tr>\n",
       "    <tr>\n",
       "      <th>6</th>\n",
       "      <td>GUSTAVO A MADERO</td>\n",
       "      <td>113067</td>\n",
       "    </tr>\n",
       "    <tr>\n",
       "      <th>2</th>\n",
       "      <td>BENITO JUAREZ</td>\n",
       "      <td>96109</td>\n",
       "    </tr>\n",
       "    <tr>\n",
       "      <th>0</th>\n",
       "      <td>ALVARO OBREGON</td>\n",
       "      <td>76802</td>\n",
       "    </tr>\n",
       "    <tr>\n",
       "      <th>3</th>\n",
       "      <td>COYOACAN</td>\n",
       "      <td>76213</td>\n",
       "    </tr>\n",
       "    <tr>\n",
       "      <th>10</th>\n",
       "      <td>MIGUEL HIDALGO</td>\n",
       "      <td>74815</td>\n",
       "    </tr>\n",
       "    <tr>\n",
       "      <th>13</th>\n",
       "      <td>TLALPAN</td>\n",
       "      <td>66671</td>\n",
       "    </tr>\n",
       "    <tr>\n",
       "      <th>14</th>\n",
       "      <td>VENUSTIANO CARRANZA</td>\n",
       "      <td>65055</td>\n",
       "    </tr>\n",
       "    <tr>\n",
       "      <th>1</th>\n",
       "      <td>AZCAPOTZALCO</td>\n",
       "      <td>55986</td>\n",
       "    </tr>\n",
       "    <tr>\n",
       "      <th>7</th>\n",
       "      <td>IZTACALCO</td>\n",
       "      <td>48030</td>\n",
       "    </tr>\n",
       "    <tr>\n",
       "      <th>15</th>\n",
       "      <td>XOCHIMILCO</td>\n",
       "      <td>35587</td>\n",
       "    </tr>\n",
       "    <tr>\n",
       "      <th>12</th>\n",
       "      <td>TLAHUAC</td>\n",
       "      <td>26825</td>\n",
       "    </tr>\n",
       "    <tr>\n",
       "      <th>9</th>\n",
       "      <td>LA MAGDALENA CONTRERAS</td>\n",
       "      <td>18556</td>\n",
       "    </tr>\n",
       "    <tr>\n",
       "      <th>4</th>\n",
       "      <td>CUAJIMALPA DE MORELOS</td>\n",
       "      <td>16861</td>\n",
       "    </tr>\n",
       "    <tr>\n",
       "      <th>11</th>\n",
       "      <td>MILPA ALTA</td>\n",
       "      <td>7791</td>\n",
       "    </tr>\n",
       "  </tbody>\n",
       "</table>\n",
       "</div>"
      ],
      "text/plain": [
       "                     index  alcaldia_hechos\n",
       "5               CUAUHTEMOC           173931\n",
       "8               IZTAPALAPA           167733\n",
       "6         GUSTAVO A MADERO           113067\n",
       "2            BENITO JUAREZ            96109\n",
       "0           ALVARO OBREGON            76802\n",
       "3                 COYOACAN            76213\n",
       "10          MIGUEL HIDALGO            74815\n",
       "13                 TLALPAN            66671\n",
       "14     VENUSTIANO CARRANZA            65055\n",
       "1             AZCAPOTZALCO            55986\n",
       "7                IZTACALCO            48030\n",
       "15              XOCHIMILCO            35587\n",
       "12                 TLAHUAC            26825\n",
       "9   LA MAGDALENA CONTRERAS            18556\n",
       "4    CUAJIMALPA DE MORELOS            16861\n",
       "11              MILPA ALTA             7791"
      ]
     },
     "execution_count": 46,
     "metadata": {},
     "output_type": "execute_result"
    }
   ],
   "source": [
    "data_limpia['alcaldia_hechos'].value_counts().sort_index().reset_index().\\\n",
    "    sort_values(by='alcaldia_hechos', ascending = False)"
   ]
  },
  {
   "cell_type": "markdown",
   "id": "french-meter",
   "metadata": {},
   "source": [
    "Notemos que la alcaldía con mayor valor del ranking (en promedio) corresponde a Tlalpan, que no es una alcaldía con una alta tasa de delitos, como lo es la delegación de Cuauhtémoc que al igual es una alcaldía con alto valor en el ranking. Esto puede sonar contradictorio, sin embargo, complementando con el resultado anterior podríamos sugerir que en dichas alcaldías se tiene un alto valor del rankeo, dado que los crímenes que son reportados corresponden a delitos graves."
   ]
  },
  {
   "cell_type": "markdown",
   "id": "educational-employer",
   "metadata": {},
   "source": [
    "Las decisiones que se podrían tomar con este ranking (indicador) son las siguientes:\n",
    "- Aumentar la seguridad en alcaldías/zonas en peligro\n",
    "- Incrementar la seguridad en ciertas fechas y temporadas del año\n",
    "- Los civiles podrían tomar medidas para su día a día (evitar ciertas zonas, horas, días de la semana, ...)"
   ]
  },
  {
   "cell_type": "code",
   "execution_count": null,
   "id": "monetary-multimedia",
   "metadata": {},
   "outputs": [],
   "source": []
  }
 ],
 "metadata": {
  "kernelspec": {
   "display_name": "Python 3",
   "language": "python",
   "name": "python3"
  },
  "language_info": {
   "codemirror_mode": {
    "name": "ipython",
    "version": 3
   },
   "file_extension": ".py",
   "mimetype": "text/x-python",
   "name": "python",
   "nbconvert_exporter": "python",
   "pygments_lexer": "ipython3",
   "version": "3.7.3"
  }
 },
 "nbformat": 4,
 "nbformat_minor": 5
}
